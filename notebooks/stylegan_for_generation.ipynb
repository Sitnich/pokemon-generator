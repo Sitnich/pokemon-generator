{
  "cells": [
    {
      "cell_type": "markdown",
      "metadata": {
        "id": "YGd1izpBEOFe"
      },
      "source": [
        "Давайте разберемся как файнтюнить StyleGAN3 под нашу задачу.\n",
        "\n",
        "Сперва установим правильную версию PyTorch (на которой был написан StyleGAN):"
      ]
    },
    {
      "cell_type": "code",
      "execution_count": null,
      "metadata": {
        "colab": {
          "background_save": true,
          "base_uri": "https://localhost:8080/"
        },
        "id": "9RjeXFtljl5x",
        "outputId": "2dbca58a-79a6-41d2-9a3c-f93a27f49a7e"
      },
      "outputs": [
        {
          "name": "stdout",
          "output_type": "stream",
          "text": [
            "1.12.0+cu113\n",
            "Found existing installation: torch 1.9.1+cu111\n",
            "Uninstalling torch-1.9.1+cu111:\n",
            "  Successfully uninstalled torch-1.9.1+cu111\n",
            "Looking in indexes: https://pypi.org/simple, https://us-python.pkg.dev/colab-wheels/public/simple/\n",
            "Collecting torch==1.9.1\n",
            "  Using cached torch-1.9.1-cp37-cp37m-manylinux1_x86_64.whl (831.4 MB)\n",
            "Requirement already satisfied: typing-extensions in /usr/local/lib/python3.7/dist-packages (from torch==1.9.1) (4.1.1)\n",
            "Installing collected packages: torch\n",
            "\u001b[31mERROR: pip's dependency resolver does not currently take into account all the packages that are installed. This behaviour is the source of the following dependency conflicts.\n",
            "torchtext 0.13.0 requires torch==1.12.0, but you have torch 1.9.1 which is incompatible.\n",
            "torchaudio 0.12.0+cu113 requires torch==1.12.0, but you have torch 1.9.1 which is incompatible.\u001b[0m\n",
            "Successfully installed torch-1.9.1\n"
          ]
        },
        {
          "data": {
            "application/vnd.colab-display-data+json": {
              "pip_warning": {
                "packages": [
                  "torch"
                ]
              }
            }
          },
          "metadata": {},
          "output_type": "display_data"
        },
        {
          "name": "stdout",
          "output_type": "stream",
          "text": [
            "1.12.0+cu113\n"
          ]
        }
      ],
      "source": [
        "import torch\n",
        "print(torch.__version__)\n",
        "!pip uninstall torch -y\n",
        "!pip install torch==1.9.1\n",
        "\n",
        "import torch\n",
        "print(torch.__version__)"
      ]
    },
    {
      "cell_type": "markdown",
      "metadata": {
        "id": "G0-58NDRGBUH"
      },
      "source": [
        "Импортируем на локальный диск репозиторий со стайлганом:"
      ]
    },
    {
      "cell_type": "code",
      "execution_count": null,
      "metadata": {
        "colab": {
          "background_save": true
        },
        "id": "y0PoOn9JJWKr",
        "outputId": "97e13ca7-f66d-4561-ada8-6f9dfcf11d58"
      },
      "outputs": [
        {
          "name": "stdout",
          "output_type": "stream",
          "text": [
            "fatal: destination path 'stylegan3' already exists and is not an empty directory.\n"
          ]
        }
      ],
      "source": [
        "!git clone https://github.com/NVlabs/stylegan3.git"
      ]
    },
    {
      "cell_type": "code",
      "execution_count": null,
      "metadata": {
        "colab": {
          "background_save": true
        },
        "id": "NAvZF-u1_vm7",
        "outputId": "d7cf638e-3315-46b5-a604-0a803a07cbc5"
      },
      "outputs": [
        {
          "name": "stdout",
          "output_type": "stream",
          "text": [
            "NVIDIA-SMI has failed because it couldn't communicate with the NVIDIA driver. Make sure that the latest NVIDIA driver is installed and running.\n",
            "\n"
          ]
        }
      ],
      "source": [
        "!nvidia-smi"
      ]
    },
    {
      "cell_type": "markdown",
      "metadata": {
        "id": "Erx1pmz_FfFh"
      },
      "source": [
        "Готовим датасет с покемонами:"
      ]
    },
    {
      "cell_type": "code",
      "execution_count": null,
      "metadata": {
        "id": "3I2GQ5eWCkCM"
      },
      "outputs": [],
      "source": [
        "from google.colab import drive\n",
        "drive.mount(\"/content/gdrive\")\n",
        "\n",
        "!git clone https://github.com/Sitnich/ssyp-2022-materials\n",
        "\n",
        "!unzip ssyp-2022-materials/data/pokemon.zip -d pokemon/"
      ]
    },
    {
      "cell_type": "code",
      "execution_count": null,
      "metadata": {
        "id": "FnaT-CkTkqQw"
      },
      "outputs": [],
      "source": [
        "# Создаем датасет специально для дообучения StyleGAN:\n",
        "# изменяем размер\n",
        "!python stylegan3/dataset_tool.py --source pokemon/official-jpg-named --dest train/ --resolution=256x256"
      ]
    },
    {
      "cell_type": "code",
      "execution_count": null,
      "metadata": {
        "id": "NgODtrCsNk4W"
      },
      "outputs": [],
      "source": [
        "%tensorflow_version 1.x\n",
        "!pip install --upgrade torch==1.9.1+cu111 torchvision==0.10.1+cu111 -f https://download.pytorch.org/whl/torch_stable.html"
      ]
    },
    {
      "cell_type": "code",
      "execution_count": null,
      "metadata": {
        "id": "7T0w1NJDHwLF"
      },
      "outputs": [],
      "source": [
        "!pip install ninja"
      ]
    },
    {
      "cell_type": "code",
      "execution_count": null,
      "metadata": {
        "colab": {
          "background_save": true
        },
        "id": "0Ql-3i8h4FAq"
      },
      "outputs": [],
      "source": [
        "# Проводим дообучение модели (из точки с флага --resume)\n",
        "!python stylegan3/train.py --outdir=training-runs/ --cfg=stylegan2 --data=train/ --freezed=13 \\\n",
        "      --gpus=8 --batch=64 --kimg=100 --gamma=1 --mirror=1 --aug=noaug --cbase=16384 --glr=0.0025 --dlr=0.0025 --mbstd-group=8\\\n",
        "      --resume=https://api.ngc.nvidia.com/v2/models/nvidia/research/stylegan2/versions/1/files/stylegan2-lsundog-256x256.pkl"
      ]
    },
    {
      "cell_type": "code",
      "execution_count": null,
      "metadata": {
        "id": "QsRMAU7xKLnM"
      },
      "outputs": [],
      "source": [
        "# Генерируем картинки, с помощью файла .pkl дообученной модели\n",
        "!python stylegan3/gen_images.py --outdir=out/ --trunc=1 --seeds=2 \\\n",
        "    --network=training-runs/00007-stylegan2--gpus1-batch32-gamma0.5/network-snapshot-000001.pkl"
      ]
    }
  ],
  "metadata": {
    "accelerator": "GPU",
    "colab": {
      "collapsed_sections": [],
      "name": "day9_stylegan_finetune.ipynb",
      "provenance": []
    },
    "kernelspec": {
      "display_name": "Python 3",
      "name": "python3"
    },
    "language_info": {
      "name": "python"
    }
  },
  "nbformat": 4,
  "nbformat_minor": 0
}