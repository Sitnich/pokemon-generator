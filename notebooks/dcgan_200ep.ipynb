{
  "cells": [
    {
      "cell_type": "code",
      "execution_count": null,
      "metadata": {
        "id": "hEsiUXzfLn9w"
      },
      "outputs": [],
      "source": [
        "import matplotlib.pyplot as plt\n",
        "import numpy as np\n",
        "\n",
        "from tqdm import tqdm\n",
        "\n",
        "%matplotlib inline"
      ]
    },
    {
      "cell_type": "code",
      "execution_count": null,
      "metadata": {
        "id": "X7_zcAiEPWz2"
      },
      "outputs": [],
      "source": [
        "import torch\n",
        "import torchvision as trv\n",
        "import torchvision.datasets as ds\n",
        "import torchvision.transforms as transforms\n",
        "import torchvision.utils as vutils\n",
        "import torchvision.transforms.functional as F"
      ]
    },
    {
      "cell_type": "code",
      "execution_count": null,
      "metadata": {
        "id": "avskVauwPn8w"
      },
      "outputs": [],
      "source": [
        "def imshow(img):\n",
        "    img = img / 2 + 0.5 # нормализация: [-1,1] --> [0,1]\n",
        "    npimg = img.numpy()\n",
        "    plt.figure(figsize = (30,10))\n",
        "    plt.imshow(np.transpose(npimg, (1, 2, 0)))"
      ]
    },
    {
      "cell_type": "markdown",
      "metadata": {
        "id": "JmT1F_TqciG_"
      },
      "source": [
        "#  Read db and apply data augmentation"
      ]
    },
    {
      "cell_type": "code",
      "source": [
        "!git clone https://github.com/Sitnich/ssyp-2022-materials\n",
        "\n",
        "!unzip ssyp-2022-materials/data/pokemon.zip -d pokemon/"
      ],
      "metadata": {
        "id": "upIjC0KJ3amK",
        "outputId": "33aebe1f-9f50-4d31-f673-c2354cb72a09",
        "colab": {
          "base_uri": "https://localhost:8080/"
        }
      },
      "execution_count": null,
      "outputs": [
        {
          "output_type": "stream",
          "name": "stdout",
          "text": [
            "Cloning into 'ssyp-2022-materials'...\n",
            "remote: Enumerating objects: 34, done.\u001b[K\n",
            "remote: Counting objects: 100% (13/13), done.\u001b[K\n",
            "remote: Compressing objects: 100% (13/13), done.\u001b[K\n",
            "remote: Total 34 (delta 4), reused 2 (delta 0), pack-reused 21\u001b[K\n",
            "Unpacking objects: 100% (34/34), done.\n",
            "Archive:  ssyp-2022-materials/data/pokemon.zip\n",
            "  inflating: pokemon/official-jpg-named/abomasnow.jpg  \n",
            "  inflating: pokemon/official-jpg-named/abra.jpg  \n",
            "  inflating: pokemon/official-jpg-named/absol.jpg  \n",
            "  inflating: pokemon/official-jpg-named/accelgor.jpg  \n",
            "  inflating: pokemon/official-jpg-named/aegislash-shield.jpg  \n",
            "  inflating: pokemon/official-jpg-named/aerodactyl.jpg  \n",
            "  inflating: pokemon/official-jpg-named/aggron.jpg  \n",
            "  inflating: pokemon/official-jpg-named/aipom.jpg  \n",
            "  inflating: pokemon/official-jpg-named/alakazam.jpg  \n",
            "  inflating: pokemon/official-jpg-named/alcremie.jpg  \n",
            "  inflating: pokemon/official-jpg-named/alomomola.jpg  \n",
            "  inflating: pokemon/official-jpg-named/altaria.jpg  \n",
            "  inflating: pokemon/official-jpg-named/amaura.jpg  \n",
            "  inflating: pokemon/official-jpg-named/ambipom.jpg  \n",
            "  inflating: pokemon/official-jpg-named/amoonguss.jpg  \n",
            "  inflating: pokemon/official-jpg-named/ampharos.jpg  \n",
            "  inflating: pokemon/official-jpg-named/anorith.jpg  \n",
            "  inflating: pokemon/official-jpg-named/appletun.jpg  \n",
            "  inflating: pokemon/official-jpg-named/applin.jpg  \n",
            "  inflating: pokemon/official-jpg-named/araquanid.jpg  \n",
            "  inflating: pokemon/official-jpg-named/arbok.jpg  \n",
            "  inflating: pokemon/official-jpg-named/arcanine.jpg  \n",
            "  inflating: pokemon/official-jpg-named/arceus-normal.jpg  \n",
            "  inflating: pokemon/official-jpg-named/archen.jpg  \n",
            "  inflating: pokemon/official-jpg-named/archeops.jpg  \n",
            "  inflating: pokemon/official-jpg-named/arctovish.jpg  \n",
            "  inflating: pokemon/official-jpg-named/arctozolt.jpg  \n",
            "  inflating: pokemon/official-jpg-named/ariados.jpg  \n",
            "  inflating: pokemon/official-jpg-named/armaldo.jpg  \n",
            "  inflating: pokemon/official-jpg-named/aromatisse.jpg  \n",
            "  inflating: pokemon/official-jpg-named/aron.jpg  \n",
            "  inflating: pokemon/official-jpg-named/arrokuda.jpg  \n",
            "  inflating: pokemon/official-jpg-named/articuno.jpg  \n",
            "  inflating: pokemon/official-jpg-named/audino.jpg  \n",
            "  inflating: pokemon/official-jpg-named/aurorus.jpg  \n",
            "  inflating: pokemon/official-jpg-named/avalugg.jpg  \n",
            "  inflating: pokemon/official-jpg-named/axew.jpg  \n",
            "  inflating: pokemon/official-jpg-named/azelf.jpg  \n",
            "  inflating: pokemon/official-jpg-named/azumarill.jpg  \n",
            "  inflating: pokemon/official-jpg-named/azurill.jpg  \n",
            "  inflating: pokemon/official-jpg-named/bagon.jpg  \n",
            "  inflating: pokemon/official-jpg-named/baltoy.jpg  \n",
            "  inflating: pokemon/official-jpg-named/banette.jpg  \n",
            "  inflating: pokemon/official-jpg-named/barbaracle.jpg  \n",
            "  inflating: pokemon/official-jpg-named/barboach.jpg  \n",
            "  inflating: pokemon/official-jpg-named/barraskewda.jpg  \n",
            "  inflating: pokemon/official-jpg-named/basculin-red-striped.jpg  \n",
            "  inflating: pokemon/official-jpg-named/bastiodon.jpg  \n",
            "  inflating: pokemon/official-jpg-named/bayleef.jpg  \n",
            "  inflating: pokemon/official-jpg-named/beartic.jpg  \n",
            "  inflating: pokemon/official-jpg-named/beautifly.jpg  \n",
            "  inflating: pokemon/official-jpg-named/beedrill.jpg  \n",
            "  inflating: pokemon/official-jpg-named/beheeyem.jpg  \n",
            "  inflating: pokemon/official-jpg-named/beldum.jpg  \n",
            "  inflating: pokemon/official-jpg-named/bellossom.jpg  \n",
            "  inflating: pokemon/official-jpg-named/bellsprout.jpg  \n",
            "  inflating: pokemon/official-jpg-named/bergmite.jpg  \n",
            "  inflating: pokemon/official-jpg-named/bewear.jpg  \n",
            "  inflating: pokemon/official-jpg-named/bibarel.jpg  \n",
            "  inflating: pokemon/official-jpg-named/bidoof.jpg  \n",
            "  inflating: pokemon/official-jpg-named/binacle.jpg  \n",
            "  inflating: pokemon/official-jpg-named/bisharp.jpg  \n",
            "  inflating: pokemon/official-jpg-named/blacephalon.jpg  \n",
            "  inflating: pokemon/official-jpg-named/blastoise.jpg  \n",
            "  inflating: pokemon/official-jpg-named/blaziken.jpg  \n",
            "  inflating: pokemon/official-jpg-named/blipbug.jpg  \n",
            "  inflating: pokemon/official-jpg-named/blissey.jpg  \n",
            "  inflating: pokemon/official-jpg-named/blitzle.jpg  \n",
            "  inflating: pokemon/official-jpg-named/boldore.jpg  \n",
            "  inflating: pokemon/official-jpg-named/boltund.jpg  \n",
            "  inflating: pokemon/official-jpg-named/bonsly.jpg  \n",
            "  inflating: pokemon/official-jpg-named/bouffalant.jpg  \n",
            "  inflating: pokemon/official-jpg-named/bounsweet.jpg  \n",
            "  inflating: pokemon/official-jpg-named/braixen.jpg  \n",
            "  inflating: pokemon/official-jpg-named/braviary.jpg  \n",
            "  inflating: pokemon/official-jpg-named/breloom.jpg  \n",
            "  inflating: pokemon/official-jpg-named/brionne.jpg  \n",
            "  inflating: pokemon/official-jpg-named/bronzong.jpg  \n",
            "  inflating: pokemon/official-jpg-named/bronzor.jpg  \n",
            "  inflating: pokemon/official-jpg-named/bruxish.jpg  \n",
            "  inflating: pokemon/official-jpg-named/budew.jpg  \n",
            "  inflating: pokemon/official-jpg-named/buizel.jpg  \n",
            "  inflating: pokemon/official-jpg-named/bulbasaur.jpg  \n",
            "  inflating: pokemon/official-jpg-named/buneary.jpg  \n",
            "  inflating: pokemon/official-jpg-named/bunnelby.jpg  \n",
            "  inflating: pokemon/official-jpg-named/burmy-plant.jpg  \n",
            "  inflating: pokemon/official-jpg-named/butterfree.jpg  \n",
            "  inflating: pokemon/official-jpg-named/buzzwole.jpg  \n",
            "  inflating: pokemon/official-jpg-named/cacnea.jpg  \n",
            "  inflating: pokemon/official-jpg-named/cacturne.jpg  \n",
            "  inflating: pokemon/official-jpg-named/calyrex.jpg  \n",
            "  inflating: pokemon/official-jpg-named/camerupt.jpg  \n",
            "  inflating: pokemon/official-jpg-named/carbink.jpg  \n",
            "  inflating: pokemon/official-jpg-named/carkol.jpg  \n",
            "  inflating: pokemon/official-jpg-named/carnivine.jpg  \n",
            "  inflating: pokemon/official-jpg-named/carracosta.jpg  \n",
            "  inflating: pokemon/official-jpg-named/carvanha.jpg  \n",
            "  inflating: pokemon/official-jpg-named/cascoon.jpg  \n",
            "  inflating: pokemon/official-jpg-named/castform.jpg  \n",
            "  inflating: pokemon/official-jpg-named/caterpie.jpg  \n",
            "  inflating: pokemon/official-jpg-named/celebi.jpg  \n",
            "  inflating: pokemon/official-jpg-named/celesteela.jpg  \n",
            "  inflating: pokemon/official-jpg-named/centiskorch.jpg  \n",
            "  inflating: pokemon/official-jpg-named/chandelure.jpg  \n",
            "  inflating: pokemon/official-jpg-named/chansey.jpg  \n",
            "  inflating: pokemon/official-jpg-named/charizard.jpg  \n",
            "  inflating: pokemon/official-jpg-named/charjabug.jpg  \n",
            "  inflating: pokemon/official-jpg-named/charmander.jpg  \n",
            "  inflating: pokemon/official-jpg-named/charmeleon.jpg  \n",
            "  inflating: pokemon/official-jpg-named/chatot.jpg  \n",
            "  inflating: pokemon/official-jpg-named/cherrim-overcast.jpg  \n",
            "  inflating: pokemon/official-jpg-named/cherubi.jpg  \n",
            "  inflating: pokemon/official-jpg-named/chesnaught.jpg  \n",
            "  inflating: pokemon/official-jpg-named/chespin.jpg  \n",
            "  inflating: pokemon/official-jpg-named/chewtle.jpg  \n",
            "  inflating: pokemon/official-jpg-named/chikorita.jpg  \n",
            "  inflating: pokemon/official-jpg-named/chimchar.jpg  \n",
            "  inflating: pokemon/official-jpg-named/chimecho.jpg  \n",
            "  inflating: pokemon/official-jpg-named/chinchou.jpg  \n",
            "  inflating: pokemon/official-jpg-named/chingling.jpg  \n",
            "  inflating: pokemon/official-jpg-named/cinccino.jpg  \n",
            "  inflating: pokemon/official-jpg-named/cinderace.jpg  \n",
            "  inflating: pokemon/official-jpg-named/clamperl.jpg  \n",
            "  inflating: pokemon/official-jpg-named/clauncher.jpg  \n",
            "  inflating: pokemon/official-jpg-named/clawitzer.jpg  \n",
            "  inflating: pokemon/official-jpg-named/claydol.jpg  \n",
            "  inflating: pokemon/official-jpg-named/clefable.jpg  \n",
            "  inflating: pokemon/official-jpg-named/clefairy.jpg  \n",
            "  inflating: pokemon/official-jpg-named/cleffa.jpg  \n",
            "  inflating: pokemon/official-jpg-named/clobbopus.jpg  \n",
            "  inflating: pokemon/official-jpg-named/cloyster.jpg  \n",
            "  inflating: pokemon/official-jpg-named/coalossal.jpg  \n",
            "  inflating: pokemon/official-jpg-named/cobalion.jpg  \n",
            "  inflating: pokemon/official-jpg-named/cofagrigus.jpg  \n",
            "  inflating: pokemon/official-jpg-named/combee.jpg  \n",
            "  inflating: pokemon/official-jpg-named/combusken.jpg  \n",
            "  inflating: pokemon/official-jpg-named/comfey.jpg  \n",
            "  inflating: pokemon/official-jpg-named/conkeldurr.jpg  \n",
            "  inflating: pokemon/official-jpg-named/copperajah.jpg  \n",
            "  inflating: pokemon/official-jpg-named/corphish.jpg  \n",
            "  inflating: pokemon/official-jpg-named/corsola.jpg  \n",
            "  inflating: pokemon/official-jpg-named/corviknight.jpg  \n",
            "  inflating: pokemon/official-jpg-named/corvisquire.jpg  \n",
            "  inflating: pokemon/official-jpg-named/cosmoem.jpg  \n",
            "  inflating: pokemon/official-jpg-named/cosmog.jpg  \n",
            "  inflating: pokemon/official-jpg-named/cottonee.jpg  \n",
            "  inflating: pokemon/official-jpg-named/crabominable.jpg  \n",
            "  inflating: pokemon/official-jpg-named/crabrawler.jpg  \n",
            "  inflating: pokemon/official-jpg-named/cradily.jpg  \n",
            "  inflating: pokemon/official-jpg-named/cramorant.jpg  \n",
            "  inflating: pokemon/official-jpg-named/cranidos.jpg  \n",
            "  inflating: pokemon/official-jpg-named/crawdaunt.jpg  \n",
            "  inflating: pokemon/official-jpg-named/cresselia.jpg  \n",
            "  inflating: pokemon/official-jpg-named/croagunk.jpg  \n",
            "  inflating: pokemon/official-jpg-named/crobat.jpg  \n",
            "  inflating: pokemon/official-jpg-named/croconaw.jpg  \n",
            "  inflating: pokemon/official-jpg-named/crustle.jpg  \n",
            "  inflating: pokemon/official-jpg-named/cryogonal.jpg  \n",
            "  inflating: pokemon/official-jpg-named/cubchoo.jpg  \n",
            "  inflating: pokemon/official-jpg-named/cubone.jpg  \n",
            "  inflating: pokemon/official-jpg-named/cufant.jpg  \n",
            "  inflating: pokemon/official-jpg-named/cursola.jpg  \n",
            "  inflating: pokemon/official-jpg-named/cutiefly.jpg  \n",
            "  inflating: pokemon/official-jpg-named/cyndaquil.jpg  \n",
            "  inflating: pokemon/official-jpg-named/darkrai.jpg  \n",
            "  inflating: pokemon/official-jpg-named/darmanitan-standard.jpg  \n",
            "  inflating: pokemon/official-jpg-named/dartrix.jpg  \n",
            "  inflating: pokemon/official-jpg-named/darumaka.jpg  \n",
            "  inflating: pokemon/official-jpg-named/decidueye.jpg  \n",
            "  inflating: pokemon/official-jpg-named/dedenne.jpg  \n",
            "  inflating: pokemon/official-jpg-named/deerling-spring.jpg  \n",
            "  inflating: pokemon/official-jpg-named/deino.jpg  \n",
            "  inflating: pokemon/official-jpg-named/delcatty.jpg  \n",
            "  inflating: pokemon/official-jpg-named/delibird.jpg  \n",
            "  inflating: pokemon/official-jpg-named/delphox.jpg  \n",
            "  inflating: pokemon/official-jpg-named/deoxys-normal.jpg  \n",
            "  inflating: pokemon/official-jpg-named/dewgong.jpg  \n",
            "  inflating: pokemon/official-jpg-named/dewott.jpg  \n",
            "  inflating: pokemon/official-jpg-named/dewpider.jpg  \n",
            "  inflating: pokemon/official-jpg-named/dhelmise.jpg  \n",
            "  inflating: pokemon/official-jpg-named/dialga.jpg  \n",
            "  inflating: pokemon/official-jpg-named/diancie.jpg  \n",
            "  inflating: pokemon/official-jpg-named/diggersby.jpg  \n",
            "  inflating: pokemon/official-jpg-named/diglett.jpg  \n",
            "  inflating: pokemon/official-jpg-named/ditto.jpg  \n",
            "  inflating: pokemon/official-jpg-named/dodrio.jpg  \n",
            "  inflating: pokemon/official-jpg-named/doduo.jpg  \n",
            "  inflating: pokemon/official-jpg-named/donphan.jpg  \n",
            "  inflating: pokemon/official-jpg-named/dottler.jpg  \n",
            "  inflating: pokemon/official-jpg-named/doublade.jpg  \n",
            "  inflating: pokemon/official-jpg-named/dracovish.jpg  \n",
            "  inflating: pokemon/official-jpg-named/dracozolt.jpg  \n",
            "  inflating: pokemon/official-jpg-named/dragalge.jpg  \n",
            "  inflating: pokemon/official-jpg-named/dragapult.jpg  \n",
            "  inflating: pokemon/official-jpg-named/dragonair.jpg  \n",
            "  inflating: pokemon/official-jpg-named/dragonite.jpg  \n",
            "  inflating: pokemon/official-jpg-named/drakloak.jpg  \n",
            "  inflating: pokemon/official-jpg-named/drampa.jpg  \n",
            "  inflating: pokemon/official-jpg-named/drapion.jpg  \n",
            "  inflating: pokemon/official-jpg-named/dratini.jpg  \n",
            "  inflating: pokemon/official-jpg-named/drednaw.jpg  \n",
            "  inflating: pokemon/official-jpg-named/dreepy.jpg  \n",
            "  inflating: pokemon/official-jpg-named/drifblim.jpg  \n",
            "  inflating: pokemon/official-jpg-named/drifloon.jpg  \n",
            "  inflating: pokemon/official-jpg-named/drilbur.jpg  \n",
            "  inflating: pokemon/official-jpg-named/drizzile.jpg  \n",
            "  inflating: pokemon/official-jpg-named/drowzee.jpg  \n",
            "  inflating: pokemon/official-jpg-named/druddigon.jpg  \n",
            "  inflating: pokemon/official-jpg-named/dubwool.jpg  \n",
            "  inflating: pokemon/official-jpg-named/ducklett.jpg  \n",
            "  inflating: pokemon/official-jpg-named/dugtrio.jpg  \n",
            "  inflating: pokemon/official-jpg-named/dunsparce.jpg  \n",
            "  inflating: pokemon/official-jpg-named/duosion.jpg  \n",
            "  inflating: pokemon/official-jpg-named/duraludon.jpg  \n",
            "  inflating: pokemon/official-jpg-named/durant.jpg  \n",
            "  inflating: pokemon/official-jpg-named/dusclops.jpg  \n",
            "  inflating: pokemon/official-jpg-named/dusknoir.jpg  \n",
            "  inflating: pokemon/official-jpg-named/duskull.jpg  \n",
            "  inflating: pokemon/official-jpg-named/dustox.jpg  \n",
            "  inflating: pokemon/official-jpg-named/dwebble.jpg  \n",
            "  inflating: pokemon/official-jpg-named/eelektrik.jpg  \n",
            "  inflating: pokemon/official-jpg-named/eelektross.jpg  \n",
            "  inflating: pokemon/official-jpg-named/eevee.jpg  \n",
            "  inflating: pokemon/official-jpg-named/eiscue-ice.jpg  \n",
            "  inflating: pokemon/official-jpg-named/ekans.jpg  \n",
            "  inflating: pokemon/official-jpg-named/eldegoss.jpg  \n",
            "  inflating: pokemon/official-jpg-named/electabuzz.jpg  \n",
            "  inflating: pokemon/official-jpg-named/electivire.jpg  \n",
            "  inflating: pokemon/official-jpg-named/electrike.jpg  \n",
            "  inflating: pokemon/official-jpg-named/electrode.jpg  \n",
            "  inflating: pokemon/official-jpg-named/elekid.jpg  \n",
            "  inflating: pokemon/official-jpg-named/elgyem.jpg  \n",
            "  inflating: pokemon/official-jpg-named/emboar.jpg  \n",
            "  inflating: pokemon/official-jpg-named/emolga.jpg  \n",
            "  inflating: pokemon/official-jpg-named/empoleon.jpg  \n",
            "  inflating: pokemon/official-jpg-named/entei.jpg  \n",
            "  inflating: pokemon/official-jpg-named/escavalier.jpg  \n",
            "  inflating: pokemon/official-jpg-named/espeon.jpg  \n",
            "  inflating: pokemon/official-jpg-named/espurr.jpg  \n",
            "  inflating: pokemon/official-jpg-named/eternatus.jpg  \n",
            "  inflating: pokemon/official-jpg-named/excadrill.jpg  \n",
            "  inflating: pokemon/official-jpg-named/exeggcute.jpg  \n",
            "  inflating: pokemon/official-jpg-named/exeggutor.jpg  \n",
            "  inflating: pokemon/official-jpg-named/exploud.jpg  \n",
            "  inflating: pokemon/official-jpg-named/falinks.jpg  \n",
            "  inflating: pokemon/official-jpg-named/farfetchd.jpg  \n",
            "  inflating: pokemon/official-jpg-named/fearow.jpg  \n",
            "  inflating: pokemon/official-jpg-named/feebas.jpg  \n",
            "  inflating: pokemon/official-jpg-named/fennekin.jpg  \n",
            "  inflating: pokemon/official-jpg-named/feraligatr.jpg  \n",
            "  inflating: pokemon/official-jpg-named/ferroseed.jpg  \n",
            "  inflating: pokemon/official-jpg-named/ferrothorn.jpg  \n",
            "  inflating: pokemon/official-jpg-named/finneon.jpg  \n",
            "  inflating: pokemon/official-jpg-named/flaaffy.jpg  \n",
            "  inflating: pokemon/official-jpg-named/flabebe-red.jpg  \n",
            "  inflating: pokemon/official-jpg-named/flapple.jpg  \n",
            "  inflating: pokemon/official-jpg-named/flareon.jpg  \n",
            "  inflating: pokemon/official-jpg-named/fletchinder.jpg  \n",
            "  inflating: pokemon/official-jpg-named/fletchling.jpg  \n",
            "  inflating: pokemon/official-jpg-named/floatzel.jpg  \n",
            "  inflating: pokemon/official-jpg-named/floette-red.jpg  \n",
            "  inflating: pokemon/official-jpg-named/florges-red.jpg  \n",
            "  inflating: pokemon/official-jpg-named/flygon.jpg  \n",
            "  inflating: pokemon/official-jpg-named/fomantis.jpg  \n",
            "  inflating: pokemon/official-jpg-named/foongus.jpg  \n",
            "  inflating: pokemon/official-jpg-named/forretress.jpg  \n",
            "  inflating: pokemon/official-jpg-named/fraxure.jpg  \n",
            "  inflating: pokemon/official-jpg-named/frillish.jpg  \n",
            "  inflating: pokemon/official-jpg-named/froakie.jpg  \n",
            "  inflating: pokemon/official-jpg-named/frogadier.jpg  \n",
            "  inflating: pokemon/official-jpg-named/froslass.jpg  \n",
            "  inflating: pokemon/official-jpg-named/frosmoth.jpg  \n",
            "  inflating: pokemon/official-jpg-named/furfrou-natural.jpg  \n",
            "  inflating: pokemon/official-jpg-named/furret.jpg  \n",
            "  inflating: pokemon/official-jpg-named/gabite.jpg  \n",
            "  inflating: pokemon/official-jpg-named/gallade.jpg  \n",
            "  inflating: pokemon/official-jpg-named/galvantula.jpg  \n",
            "  inflating: pokemon/official-jpg-named/garbodor.jpg  \n",
            "  inflating: pokemon/official-jpg-named/garchomp.jpg  \n",
            "  inflating: pokemon/official-jpg-named/gardevoir.jpg  \n",
            "  inflating: pokemon/official-jpg-named/gastly.jpg  \n",
            "  inflating: pokemon/official-jpg-named/gastrodon-west.jpg  \n",
            "  inflating: pokemon/official-jpg-named/genesect.jpg  \n",
            "  inflating: pokemon/official-jpg-named/gengar.jpg  \n",
            "  inflating: pokemon/official-jpg-named/geodude.jpg  \n",
            "  inflating: pokemon/official-jpg-named/gible.jpg  \n",
            "  inflating: pokemon/official-jpg-named/gigalith.jpg  \n",
            "  inflating: pokemon/official-jpg-named/girafarig.jpg  \n",
            "  inflating: pokemon/official-jpg-named/giratina-altered.jpg  \n",
            "  inflating: pokemon/official-jpg-named/glaceon.jpg  \n",
            "  inflating: pokemon/official-jpg-named/glalie.jpg  \n",
            "  inflating: pokemon/official-jpg-named/glameow.jpg  \n",
            "  inflating: pokemon/official-jpg-named/glastrier.jpg  \n",
            "  inflating: pokemon/official-jpg-named/gligar.jpg  \n",
            "  inflating: pokemon/official-jpg-named/gliscor.jpg  \n",
            "  inflating: pokemon/official-jpg-named/gloom.jpg  \n",
            "  inflating: pokemon/official-jpg-named/gogoat.jpg  \n",
            "  inflating: pokemon/official-jpg-named/golbat.jpg  \n",
            "  inflating: pokemon/official-jpg-named/goldeen.jpg  \n",
            "  inflating: pokemon/official-jpg-named/golduck.jpg  \n",
            "  inflating: pokemon/official-jpg-named/golem.jpg  \n",
            "  inflating: pokemon/official-jpg-named/golett.jpg  \n",
            "  inflating: pokemon/official-jpg-named/golisopod.jpg  \n",
            "  inflating: pokemon/official-jpg-named/golurk.jpg  \n",
            "  inflating: pokemon/official-jpg-named/goodra.jpg  \n",
            "  inflating: pokemon/official-jpg-named/goomy.jpg  \n",
            "  inflating: pokemon/official-jpg-named/gorebyss.jpg  \n",
            "  inflating: pokemon/official-jpg-named/gossifleur.jpg  \n",
            "  inflating: pokemon/official-jpg-named/gothita.jpg  \n",
            "  inflating: pokemon/official-jpg-named/gothitelle.jpg  \n",
            "  inflating: pokemon/official-jpg-named/gothorita.jpg  \n",
            "  inflating: pokemon/official-jpg-named/gourgeist-average.jpg  \n",
            "  inflating: pokemon/official-jpg-named/granbull.jpg  \n",
            "  inflating: pokemon/official-jpg-named/grapploct.jpg  \n",
            "  inflating: pokemon/official-jpg-named/graveler.jpg  \n",
            "  inflating: pokemon/official-jpg-named/greedent.jpg  \n",
            "  inflating: pokemon/official-jpg-named/greninja.jpg  \n",
            "  inflating: pokemon/official-jpg-named/grimer.jpg  \n",
            "  inflating: pokemon/official-jpg-named/grimmsnarl.jpg  \n",
            "  inflating: pokemon/official-jpg-named/grookey.jpg  \n",
            "  inflating: pokemon/official-jpg-named/grotle.jpg  \n",
            "  inflating: pokemon/official-jpg-named/groudon.jpg  \n",
            "  inflating: pokemon/official-jpg-named/grovyle.jpg  \n",
            "  inflating: pokemon/official-jpg-named/growlithe.jpg  \n",
            "  inflating: pokemon/official-jpg-named/grubbin.jpg  \n",
            "  inflating: pokemon/official-jpg-named/grumpig.jpg  \n",
            "  inflating: pokemon/official-jpg-named/gulpin.jpg  \n",
            "  inflating: pokemon/official-jpg-named/gumshoos.jpg  \n",
            "  inflating: pokemon/official-jpg-named/gurdurr.jpg  \n",
            "  inflating: pokemon/official-jpg-named/guzzlord.jpg  \n",
            "  inflating: pokemon/official-jpg-named/gyarados.jpg  \n",
            "  inflating: pokemon/official-jpg-named/hakamo-o.jpg  \n",
            "  inflating: pokemon/official-jpg-named/happiny.jpg  \n",
            "  inflating: pokemon/official-jpg-named/hariyama.jpg  \n",
            "  inflating: pokemon/official-jpg-named/hatenna.jpg  \n",
            "  inflating: pokemon/official-jpg-named/hatterene.jpg  \n",
            "  inflating: pokemon/official-jpg-named/hattrem.jpg  \n",
            "  inflating: pokemon/official-jpg-named/haunter.jpg  \n",
            "  inflating: pokemon/official-jpg-named/hawlucha.jpg  \n",
            "  inflating: pokemon/official-jpg-named/haxorus.jpg  \n",
            "  inflating: pokemon/official-jpg-named/heatmor.jpg  \n",
            "  inflating: pokemon/official-jpg-named/heatran.jpg  \n",
            "  inflating: pokemon/official-jpg-named/heliolisk.jpg  \n",
            "  inflating: pokemon/official-jpg-named/helioptile.jpg  \n",
            "  inflating: pokemon/official-jpg-named/heracross.jpg  \n",
            "  inflating: pokemon/official-jpg-named/herdier.jpg  \n",
            "  inflating: pokemon/official-jpg-named/hippopotas.jpg  \n",
            "  inflating: pokemon/official-jpg-named/hippowdon.jpg  \n",
            "  inflating: pokemon/official-jpg-named/hitmonchan.jpg  \n",
            "  inflating: pokemon/official-jpg-named/hitmonlee.jpg  \n",
            "  inflating: pokemon/official-jpg-named/hitmontop.jpg  \n",
            "  inflating: pokemon/official-jpg-named/honchkrow.jpg  \n",
            "  inflating: pokemon/official-jpg-named/honedge.jpg  \n",
            "  inflating: pokemon/official-jpg-named/ho-oh.jpg  \n",
            "  inflating: pokemon/official-jpg-named/hoopa.jpg  \n",
            "  inflating: pokemon/official-jpg-named/hoothoot.jpg  \n",
            "  inflating: pokemon/official-jpg-named/hoppip.jpg  \n",
            "  inflating: pokemon/official-jpg-named/horsea.jpg  \n",
            "  inflating: pokemon/official-jpg-named/houndoom.jpg  \n",
            "  inflating: pokemon/official-jpg-named/houndour.jpg  \n",
            "  inflating: pokemon/official-jpg-named/huntail.jpg  \n",
            "  inflating: pokemon/official-jpg-named/hydreigon.jpg  \n",
            "  inflating: pokemon/official-jpg-named/hypno.jpg  \n",
            "  inflating: pokemon/official-jpg-named/igglybuff.jpg  \n",
            "  inflating: pokemon/official-jpg-named/illumise.jpg  \n",
            "  inflating: pokemon/official-jpg-named/impidimp.jpg  \n",
            "  inflating: pokemon/official-jpg-named/incineroar.jpg  \n",
            "  inflating: pokemon/official-jpg-named/indeedee-male.jpg  \n",
            "  inflating: pokemon/official-jpg-named/infernape.jpg  \n",
            "  inflating: pokemon/official-jpg-named/inkay.jpg  \n",
            "  inflating: pokemon/official-jpg-named/inteleon.jpg  \n",
            "  inflating: pokemon/official-jpg-named/ivysaur.jpg  \n",
            "  inflating: pokemon/official-jpg-named/jangmo-o.jpg  \n",
            "  inflating: pokemon/official-jpg-named/jellicent.jpg  \n",
            "  inflating: pokemon/official-jpg-named/jigglypuff.jpg  \n",
            "  inflating: pokemon/official-jpg-named/jirachi.jpg  \n",
            "  inflating: pokemon/official-jpg-named/jolteon.jpg  \n",
            "  inflating: pokemon/official-jpg-named/joltik.jpg  \n",
            "  inflating: pokemon/official-jpg-named/jumpluff.jpg  \n",
            "  inflating: pokemon/official-jpg-named/jynx.jpg  \n",
            "  inflating: pokemon/official-jpg-named/kabuto.jpg  \n",
            "  inflating: pokemon/official-jpg-named/kabutops.jpg  \n",
            "  inflating: pokemon/official-jpg-named/kadabra.jpg  \n",
            "  inflating: pokemon/official-jpg-named/kakuna.jpg  \n",
            "  inflating: pokemon/official-jpg-named/kangaskhan.jpg  \n",
            "  inflating: pokemon/official-jpg-named/karrablast.jpg  \n",
            "  inflating: pokemon/official-jpg-named/kartana.jpg  \n",
            "  inflating: pokemon/official-jpg-named/kecleon.jpg  \n",
            "  inflating: pokemon/official-jpg-named/keldeo-ordinary.jpg  \n",
            "  inflating: pokemon/official-jpg-named/kingdra.jpg  \n",
            "  inflating: pokemon/official-jpg-named/kingler.jpg  \n",
            "  inflating: pokemon/official-jpg-named/kirlia.jpg  \n",
            "  inflating: pokemon/official-jpg-named/klang.jpg  \n",
            "  inflating: pokemon/official-jpg-named/klefki.jpg  \n",
            "  inflating: pokemon/official-jpg-named/klink.jpg  \n",
            "  inflating: pokemon/official-jpg-named/klinklang.jpg  \n",
            "  inflating: pokemon/official-jpg-named/koffing.jpg  \n",
            "  inflating: pokemon/official-jpg-named/komala.jpg  \n",
            "  inflating: pokemon/official-jpg-named/kommo-o.jpg  \n",
            "  inflating: pokemon/official-jpg-named/krabby.jpg  \n",
            "  inflating: pokemon/official-jpg-named/kricketot.jpg  \n",
            "  inflating: pokemon/official-jpg-named/kricketune.jpg  \n",
            "  inflating: pokemon/official-jpg-named/krokorok.jpg  \n",
            "  inflating: pokemon/official-jpg-named/krookodile.jpg  \n",
            "  inflating: pokemon/official-jpg-named/kubfu.jpg  \n",
            "  inflating: pokemon/official-jpg-named/kyogre.jpg  \n",
            "  inflating: pokemon/official-jpg-named/kyurem.jpg  \n",
            "  inflating: pokemon/official-jpg-named/lairon.jpg  \n",
            "  inflating: pokemon/official-jpg-named/lampent.jpg  \n",
            "  inflating: pokemon/official-jpg-named/landorus-incarnate.jpg  \n",
            "  inflating: pokemon/official-jpg-named/lanturn.jpg  \n",
            "  inflating: pokemon/official-jpg-named/lapras.jpg  \n",
            "  inflating: pokemon/official-jpg-named/larvesta.jpg  \n",
            "  inflating: pokemon/official-jpg-named/larvitar.jpg  \n",
            "  inflating: pokemon/official-jpg-named/latias.jpg  \n",
            "  inflating: pokemon/official-jpg-named/latios.jpg  \n",
            "  inflating: pokemon/official-jpg-named/leafeon.jpg  \n",
            "  inflating: pokemon/official-jpg-named/leavanny.jpg  \n",
            "  inflating: pokemon/official-jpg-named/ledian.jpg  \n",
            "  inflating: pokemon/official-jpg-named/ledyba.jpg  \n",
            "  inflating: pokemon/official-jpg-named/lickilicky.jpg  \n",
            "  inflating: pokemon/official-jpg-named/lickitung.jpg  \n",
            "  inflating: pokemon/official-jpg-named/liepard.jpg  \n",
            "  inflating: pokemon/official-jpg-named/lileep.jpg  \n",
            "  inflating: pokemon/official-jpg-named/lilligant.jpg  \n",
            "  inflating: pokemon/official-jpg-named/lillipup.jpg  \n",
            "  inflating: pokemon/official-jpg-named/linoone.jpg  \n",
            "  inflating: pokemon/official-jpg-named/litleo.jpg  \n",
            "  inflating: pokemon/official-jpg-named/litten.jpg  \n",
            "  inflating: pokemon/official-jpg-named/litwick.jpg  \n",
            "  inflating: pokemon/official-jpg-named/lombre.jpg  \n",
            "  inflating: pokemon/official-jpg-named/lopunny.jpg  \n",
            "  inflating: pokemon/official-jpg-named/lotad.jpg  \n",
            "  inflating: pokemon/official-jpg-named/loudred.jpg  \n",
            "  inflating: pokemon/official-jpg-named/lucario.jpg  \n",
            "  inflating: pokemon/official-jpg-named/ludicolo.jpg  \n",
            "  inflating: pokemon/official-jpg-named/lugia.jpg  \n",
            "  inflating: pokemon/official-jpg-named/lumineon.jpg  \n",
            "  inflating: pokemon/official-jpg-named/lunala.jpg  \n",
            "  inflating: pokemon/official-jpg-named/lunatone.jpg  \n",
            "  inflating: pokemon/official-jpg-named/lurantis.jpg  \n",
            "  inflating: pokemon/official-jpg-named/luvdisc.jpg  \n",
            "  inflating: pokemon/official-jpg-named/luxio.jpg  \n",
            "  inflating: pokemon/official-jpg-named/luxray.jpg  \n",
            "  inflating: pokemon/official-jpg-named/lycanroc-midday.jpg  \n",
            "  inflating: pokemon/official-jpg-named/machamp.jpg  \n",
            "  inflating: pokemon/official-jpg-named/machoke.jpg  \n",
            "  inflating: pokemon/official-jpg-named/machop.jpg  \n",
            "  inflating: pokemon/official-jpg-named/magby.jpg  \n",
            "  inflating: pokemon/official-jpg-named/magcargo.jpg  \n",
            "  inflating: pokemon/official-jpg-named/magearna.jpg  \n",
            "  inflating: pokemon/official-jpg-named/magikarp.jpg  \n",
            "  inflating: pokemon/official-jpg-named/magmar.jpg  \n",
            "  inflating: pokemon/official-jpg-named/magmortar.jpg  \n",
            "  inflating: pokemon/official-jpg-named/magnemite.jpg  \n",
            "  inflating: pokemon/official-jpg-named/magneton.jpg  \n",
            "  inflating: pokemon/official-jpg-named/magnezone.jpg  \n",
            "  inflating: pokemon/official-jpg-named/makuhita.jpg  \n",
            "  inflating: pokemon/official-jpg-named/malamar.jpg  \n",
            "  inflating: pokemon/official-jpg-named/mamoswine.jpg  \n",
            "  inflating: pokemon/official-jpg-named/manaphy.jpg  \n",
            "  inflating: pokemon/official-jpg-named/mandibuzz.jpg  \n",
            "  inflating: pokemon/official-jpg-named/manectric.jpg  \n",
            "  inflating: pokemon/official-jpg-named/mankey.jpg  \n",
            "  inflating: pokemon/official-jpg-named/mantine.jpg  \n",
            "  inflating: pokemon/official-jpg-named/mantyke.jpg  \n",
            "  inflating: pokemon/official-jpg-named/maractus.jpg  \n",
            "  inflating: pokemon/official-jpg-named/mareanie.jpg  \n",
            "  inflating: pokemon/official-jpg-named/mareep.jpg  \n",
            "  inflating: pokemon/official-jpg-named/marill.jpg  \n",
            "  inflating: pokemon/official-jpg-named/marowak.jpg  \n",
            "  inflating: pokemon/official-jpg-named/marshadow.jpg  \n",
            "  inflating: pokemon/official-jpg-named/marshtomp.jpg  \n",
            "  inflating: pokemon/official-jpg-named/masquerain.jpg  \n",
            "  inflating: pokemon/official-jpg-named/mawile.jpg  \n",
            "  inflating: pokemon/official-jpg-named/medicham.jpg  \n",
            "  inflating: pokemon/official-jpg-named/meditite.jpg  \n",
            "  inflating: pokemon/official-jpg-named/meganium.jpg  \n",
            "  inflating: pokemon/official-jpg-named/melmetal.jpg  \n",
            "  inflating: pokemon/official-jpg-named/meloetta-aria.jpg  \n",
            "  inflating: pokemon/official-jpg-named/meltan.jpg  \n",
            "  inflating: pokemon/official-jpg-named/meowstic-male.jpg  \n",
            "  inflating: pokemon/official-jpg-named/meowth.jpg  \n",
            "  inflating: pokemon/official-jpg-named/mesprit.jpg  \n",
            "  inflating: pokemon/official-jpg-named/metagross.jpg  \n",
            "  inflating: pokemon/official-jpg-named/metang.jpg  \n",
            "  inflating: pokemon/official-jpg-named/metapod.jpg  \n",
            "  inflating: pokemon/official-jpg-named/mew.jpg  \n",
            "  inflating: pokemon/official-jpg-named/mewtwo.jpg  \n",
            "  inflating: pokemon/official-jpg-named/mienfoo.jpg  \n",
            "  inflating: pokemon/official-jpg-named/mienshao.jpg  \n",
            "  inflating: pokemon/official-jpg-named/mightyena.jpg  \n",
            "  inflating: pokemon/official-jpg-named/milcery.jpg  \n",
            "  inflating: pokemon/official-jpg-named/milotic.jpg  \n",
            "  inflating: pokemon/official-jpg-named/miltank.jpg  \n",
            "  inflating: pokemon/official-jpg-named/mime-jr.jpg  \n",
            "  inflating: pokemon/official-jpg-named/mimikyu-disguised.jpg  \n",
            "  inflating: pokemon/official-jpg-named/minccino.jpg  \n",
            "  inflating: pokemon/official-jpg-named/minior-red-meteor.jpg  \n",
            "  inflating: pokemon/official-jpg-named/minun.jpg  \n",
            "  inflating: pokemon/official-jpg-named/misdreavus.jpg  \n",
            "  inflating: pokemon/official-jpg-named/mismagius.jpg  \n",
            "  inflating: pokemon/official-jpg-named/moltres.jpg  \n",
            "  inflating: pokemon/official-jpg-named/monferno.jpg  \n",
            "  inflating: pokemon/official-jpg-named/morelull.jpg  \n",
            "  inflating: pokemon/official-jpg-named/morgrem.jpg  \n",
            "  inflating: pokemon/official-jpg-named/morpeko-full-belly.jpg  \n",
            "  inflating: pokemon/official-jpg-named/mothim-plant.jpg  \n",
            "  inflating: pokemon/official-jpg-named/mr-mime.jpg  \n",
            "  inflating: pokemon/official-jpg-named/mr-rime.jpg  \n",
            "  inflating: pokemon/official-jpg-named/mudbray.jpg  \n",
            "  inflating: pokemon/official-jpg-named/mudkip.jpg  \n",
            "  inflating: pokemon/official-jpg-named/mudsdale.jpg  \n",
            "  inflating: pokemon/official-jpg-named/muk.jpg  \n",
            "  inflating: pokemon/official-jpg-named/munchlax.jpg  \n",
            "  inflating: pokemon/official-jpg-named/munna.jpg  \n",
            "  inflating: pokemon/official-jpg-named/murkrow.jpg  \n",
            "  inflating: pokemon/official-jpg-named/musharna.jpg  \n",
            "  inflating: pokemon/official-jpg-named/naganadel.jpg  \n",
            "  inflating: pokemon/official-jpg-named/natu.jpg  \n",
            "  inflating: pokemon/official-jpg-named/necrozma.jpg  \n",
            "  inflating: pokemon/official-jpg-named/nickit.jpg  \n",
            "  inflating: pokemon/official-jpg-named/nidoking.jpg  \n",
            "  inflating: pokemon/official-jpg-named/nidoqueen.jpg  \n",
            "  inflating: pokemon/official-jpg-named/nidoran-f.jpg  \n",
            "  inflating: pokemon/official-jpg-named/nidoran-m.jpg  \n",
            "  inflating: pokemon/official-jpg-named/nidorina.jpg  \n",
            "  inflating: pokemon/official-jpg-named/nidorino.jpg  \n",
            "  inflating: pokemon/official-jpg-named/nihilego.jpg  \n",
            "  inflating: pokemon/official-jpg-named/nincada.jpg  \n",
            "  inflating: pokemon/official-jpg-named/ninetales.jpg  \n",
            "  inflating: pokemon/official-jpg-named/ninjask.jpg  \n",
            "  inflating: pokemon/official-jpg-named/noctowl.jpg  \n",
            "  inflating: pokemon/official-jpg-named/noibat.jpg  \n",
            "  inflating: pokemon/official-jpg-named/noivern.jpg  \n",
            "  inflating: pokemon/official-jpg-named/nosepass.jpg  \n",
            "  inflating: pokemon/official-jpg-named/numel.jpg  \n",
            "  inflating: pokemon/official-jpg-named/nuzleaf.jpg  \n",
            "  inflating: pokemon/official-jpg-named/obstagoon.jpg  \n",
            "  inflating: pokemon/official-jpg-named/octillery.jpg  \n",
            "  inflating: pokemon/official-jpg-named/oddish.jpg  \n",
            "  inflating: pokemon/official-jpg-named/omanyte.jpg  \n",
            "  inflating: pokemon/official-jpg-named/omastar.jpg  \n",
            "  inflating: pokemon/official-jpg-named/onix.jpg  \n",
            "  inflating: pokemon/official-jpg-named/oranguru.jpg  \n",
            "  inflating: pokemon/official-jpg-named/orbeetle.jpg  \n",
            "  inflating: pokemon/official-jpg-named/oricorio-baile.jpg  \n",
            "  inflating: pokemon/official-jpg-named/oshawott.jpg  \n",
            "  inflating: pokemon/official-jpg-named/pachirisu.jpg  \n",
            "  inflating: pokemon/official-jpg-named/palkia.jpg  \n",
            "  inflating: pokemon/official-jpg-named/palossand.jpg  \n",
            "  inflating: pokemon/official-jpg-named/palpitoad.jpg  \n",
            "  inflating: pokemon/official-jpg-named/pancham.jpg  \n",
            "  inflating: pokemon/official-jpg-named/pangoro.jpg  \n",
            "  inflating: pokemon/official-jpg-named/panpour.jpg  \n",
            "  inflating: pokemon/official-jpg-named/pansage.jpg  \n",
            "  inflating: pokemon/official-jpg-named/pansear.jpg  \n",
            "  inflating: pokemon/official-jpg-named/paras.jpg  \n",
            "  inflating: pokemon/official-jpg-named/parasect.jpg  \n",
            "  inflating: pokemon/official-jpg-named/passimian.jpg  \n",
            "  inflating: pokemon/official-jpg-named/patrat.jpg  \n",
            "  inflating: pokemon/official-jpg-named/pawniard.jpg  \n",
            "  inflating: pokemon/official-jpg-named/pelipper.jpg  \n",
            "  inflating: pokemon/official-jpg-named/perrserker.jpg  \n",
            "  inflating: pokemon/official-jpg-named/persian.jpg  \n",
            "  inflating: pokemon/official-jpg-named/petilil.jpg  \n",
            "  inflating: pokemon/official-jpg-named/phanpy.jpg  \n",
            "  inflating: pokemon/official-jpg-named/phantump.jpg  \n",
            "  inflating: pokemon/official-jpg-named/pheromosa.jpg  \n",
            "  inflating: pokemon/official-jpg-named/phione.jpg  \n",
            "  inflating: pokemon/official-jpg-named/pichu.jpg  \n",
            "  inflating: pokemon/official-jpg-named/pidgeot.jpg  \n",
            "  inflating: pokemon/official-jpg-named/pidgeotto.jpg  \n",
            "  inflating: pokemon/official-jpg-named/pidgey.jpg  \n",
            "  inflating: pokemon/official-jpg-named/pidove.jpg  \n",
            "  inflating: pokemon/official-jpg-named/pignite.jpg  \n",
            "  inflating: pokemon/official-jpg-named/pikachu.jpg  \n",
            "  inflating: pokemon/official-jpg-named/pikipek.jpg  \n",
            "  inflating: pokemon/official-jpg-named/piloswine.jpg  \n",
            "  inflating: pokemon/official-jpg-named/pincurchin.jpg  \n",
            "  inflating: pokemon/official-jpg-named/pineco.jpg  \n",
            "  inflating: pokemon/official-jpg-named/pinsir.jpg  \n",
            "  inflating: pokemon/official-jpg-named/piplup.jpg  \n",
            "  inflating: pokemon/official-jpg-named/plusle.jpg  \n",
            "  inflating: pokemon/official-jpg-named/poipole.jpg  \n",
            "  inflating: pokemon/official-jpg-named/politoed.jpg  \n",
            "  inflating: pokemon/official-jpg-named/poliwag.jpg  \n",
            "  inflating: pokemon/official-jpg-named/poliwhirl.jpg  \n",
            "  inflating: pokemon/official-jpg-named/poliwrath.jpg  \n",
            "  inflating: pokemon/official-jpg-named/polteageist-phony.jpg  \n",
            "  inflating: pokemon/official-jpg-named/ponyta.jpg  \n",
            "  inflating: pokemon/official-jpg-named/poochyena.jpg  \n",
            "  inflating: pokemon/official-jpg-named/popplio.jpg  \n",
            "  inflating: pokemon/official-jpg-named/porygon.jpg  \n",
            "  inflating: pokemon/official-jpg-named/porygon2.jpg  \n",
            "  inflating: pokemon/official-jpg-named/porygon-z.jpg  \n",
            "  inflating: pokemon/official-jpg-named/primarina.jpg  \n",
            "  inflating: pokemon/official-jpg-named/primeape.jpg  \n",
            "  inflating: pokemon/official-jpg-named/prinplup.jpg  \n",
            "  inflating: pokemon/official-jpg-named/probopass.jpg  \n",
            "  inflating: pokemon/official-jpg-named/psyduck.jpg  \n",
            "  inflating: pokemon/official-jpg-named/pumpkaboo-average.jpg  \n",
            "  inflating: pokemon/official-jpg-named/pupitar.jpg  \n",
            "  inflating: pokemon/official-jpg-named/purrloin.jpg  \n",
            "  inflating: pokemon/official-jpg-named/purugly.jpg  \n",
            "  inflating: pokemon/official-jpg-named/pyroar.jpg  \n",
            "  inflating: pokemon/official-jpg-named/pyukumuku.jpg  \n",
            "  inflating: pokemon/official-jpg-named/quagsire.jpg  \n",
            "  inflating: pokemon/official-jpg-named/quilava.jpg  \n",
            "  inflating: pokemon/official-jpg-named/quilladin.jpg  \n",
            "  inflating: pokemon/official-jpg-named/qwilfish.jpg  \n",
            "  inflating: pokemon/official-jpg-named/raboot.jpg  \n",
            "  inflating: pokemon/official-jpg-named/raichu.jpg  \n",
            "  inflating: pokemon/official-jpg-named/raikou.jpg  \n",
            "  inflating: pokemon/official-jpg-named/ralts.jpg  \n",
            "  inflating: pokemon/official-jpg-named/rampardos.jpg  \n",
            "  inflating: pokemon/official-jpg-named/rapidash.jpg  \n",
            "  inflating: pokemon/official-jpg-named/raticate.jpg  \n",
            "  inflating: pokemon/official-jpg-named/rattata.jpg  \n",
            "  inflating: pokemon/official-jpg-named/rayquaza.jpg  \n",
            "  inflating: pokemon/official-jpg-named/regice.jpg  \n",
            "  inflating: pokemon/official-jpg-named/regidrago.jpg  \n",
            "  inflating: pokemon/official-jpg-named/regieleki.jpg  \n",
            "  inflating: pokemon/official-jpg-named/regigigas.jpg  \n",
            "  inflating: pokemon/official-jpg-named/regirock.jpg  \n",
            "  inflating: pokemon/official-jpg-named/registeel.jpg  \n",
            "  inflating: pokemon/official-jpg-named/relicanth.jpg  \n",
            "  inflating: pokemon/official-jpg-named/remoraid.jpg  \n",
            "  inflating: pokemon/official-jpg-named/reshiram.jpg  \n",
            "  inflating: pokemon/official-jpg-named/reuniclus.jpg  \n",
            "  inflating: pokemon/official-jpg-named/rhydon.jpg  \n",
            "  inflating: pokemon/official-jpg-named/rhyhorn.jpg  \n",
            "  inflating: pokemon/official-jpg-named/rhyperior.jpg  \n",
            "  inflating: pokemon/official-jpg-named/ribombee.jpg  \n",
            "  inflating: pokemon/official-jpg-named/rillaboom.jpg  \n",
            "  inflating: pokemon/official-jpg-named/riolu.jpg  \n",
            "  inflating: pokemon/official-jpg-named/rockruff.jpg  \n",
            "  inflating: pokemon/official-jpg-named/roggenrola.jpg  \n",
            "  inflating: pokemon/official-jpg-named/rolycoly.jpg  \n",
            "  inflating: pokemon/official-jpg-named/rookidee.jpg  \n",
            "  inflating: pokemon/official-jpg-named/roselia.jpg  \n",
            "  inflating: pokemon/official-jpg-named/roserade.jpg  \n",
            "  inflating: pokemon/official-jpg-named/rotom.jpg  \n",
            "  inflating: pokemon/official-jpg-named/rowlet.jpg  \n",
            "  inflating: pokemon/official-jpg-named/rufflet.jpg  \n",
            "  inflating: pokemon/official-jpg-named/runerigus.jpg  \n",
            "  inflating: pokemon/official-jpg-named/sableye.jpg  \n",
            "  inflating: pokemon/official-jpg-named/salamence.jpg  \n",
            "  inflating: pokemon/official-jpg-named/salandit.jpg  \n",
            "  inflating: pokemon/official-jpg-named/salazzle.jpg  \n",
            "  inflating: pokemon/official-jpg-named/samurott.jpg  \n",
            "  inflating: pokemon/official-jpg-named/sandaconda.jpg  \n",
            "  inflating: pokemon/official-jpg-named/sandile.jpg  \n",
            "  inflating: pokemon/official-jpg-named/sandshrew.jpg  \n",
            "  inflating: pokemon/official-jpg-named/sandslash.jpg  \n",
            "  inflating: pokemon/official-jpg-named/sandygast.jpg  \n",
            "  inflating: pokemon/official-jpg-named/sawk.jpg  \n",
            "  inflating: pokemon/official-jpg-named/sawsbuck-spring.jpg  \n",
            "  inflating: pokemon/official-jpg-named/scatterbug-icy-snow.jpg  \n",
            "  inflating: pokemon/official-jpg-named/sceptile.jpg  \n",
            "  inflating: pokemon/official-jpg-named/scizor.jpg  \n",
            "  inflating: pokemon/official-jpg-named/scolipede.jpg  \n",
            "  inflating: pokemon/official-jpg-named/scorbunny.jpg  \n",
            "  inflating: pokemon/official-jpg-named/scrafty.jpg  \n",
            "  inflating: pokemon/official-jpg-named/scraggy.jpg  \n",
            "  inflating: pokemon/official-jpg-named/scyther.jpg  \n",
            "  inflating: pokemon/official-jpg-named/seadra.jpg  \n",
            "  inflating: pokemon/official-jpg-named/seaking.jpg  \n",
            "  inflating: pokemon/official-jpg-named/sealeo.jpg  \n",
            "  inflating: pokemon/official-jpg-named/seedot.jpg  \n",
            "  inflating: pokemon/official-jpg-named/seel.jpg  \n",
            "  inflating: pokemon/official-jpg-named/seismitoad.jpg  \n",
            "  inflating: pokemon/official-jpg-named/sentret.jpg  \n",
            "  inflating: pokemon/official-jpg-named/serperior.jpg  \n",
            "  inflating: pokemon/official-jpg-named/servine.jpg  \n",
            "  inflating: pokemon/official-jpg-named/seviper.jpg  \n",
            "  inflating: pokemon/official-jpg-named/sewaddle.jpg  \n",
            "  inflating: pokemon/official-jpg-named/sharpedo.jpg  \n",
            "  inflating: pokemon/official-jpg-named/shaymin-land.jpg  \n",
            "  inflating: pokemon/official-jpg-named/shedinja.jpg  \n",
            "  inflating: pokemon/official-jpg-named/shelgon.jpg  \n",
            "  inflating: pokemon/official-jpg-named/shellder.jpg  \n",
            "  inflating: pokemon/official-jpg-named/shellos-west.jpg  \n",
            "  inflating: pokemon/official-jpg-named/shelmet.jpg  \n",
            "  inflating: pokemon/official-jpg-named/shieldon.jpg  \n",
            "  inflating: pokemon/official-jpg-named/shiftry.jpg  \n",
            "  inflating: pokemon/official-jpg-named/shiinotic.jpg  \n",
            "  inflating: pokemon/official-jpg-named/shinx.jpg  \n",
            "  inflating: pokemon/official-jpg-named/shroomish.jpg  \n",
            "  inflating: pokemon/official-jpg-named/shuckle.jpg  \n",
            "  inflating: pokemon/official-jpg-named/shuppet.jpg  \n",
            "  inflating: pokemon/official-jpg-named/sigilyph.jpg  \n",
            "  inflating: pokemon/official-jpg-named/silcoon.jpg  \n",
            "  inflating: pokemon/official-jpg-named/silicobra.jpg  \n",
            "  inflating: pokemon/official-jpg-named/silvally-normal.jpg  \n",
            "  inflating: pokemon/official-jpg-named/simipour.jpg  \n",
            "  inflating: pokemon/official-jpg-named/simisage.jpg  \n",
            "  inflating: pokemon/official-jpg-named/simisear.jpg  \n",
            "  inflating: pokemon/official-jpg-named/sinistea-phony.jpg  \n",
            "  inflating: pokemon/official-jpg-named/sirfetchd.jpg  \n",
            "  inflating: pokemon/official-jpg-named/sizzlipede.jpg  \n",
            "  inflating: pokemon/official-jpg-named/skarmory.jpg  \n",
            "  inflating: pokemon/official-jpg-named/skiddo.jpg  \n",
            "  inflating: pokemon/official-jpg-named/skiploom.jpg  \n",
            "  inflating: pokemon/official-jpg-named/skitty.jpg  \n",
            "  inflating: pokemon/official-jpg-named/skorupi.jpg  \n",
            "  inflating: pokemon/official-jpg-named/skrelp.jpg  \n",
            "  inflating: pokemon/official-jpg-named/skuntank.jpg  \n",
            "  inflating: pokemon/official-jpg-named/skwovet.jpg  \n",
            "  inflating: pokemon/official-jpg-named/slaking.jpg  \n",
            "  inflating: pokemon/official-jpg-named/slakoth.jpg  \n",
            "  inflating: pokemon/official-jpg-named/sliggoo.jpg  \n",
            "  inflating: pokemon/official-jpg-named/slowbro.jpg  \n",
            "  inflating: pokemon/official-jpg-named/slowking.jpg  \n",
            "  inflating: pokemon/official-jpg-named/slowpoke.jpg  \n",
            "  inflating: pokemon/official-jpg-named/slugma.jpg  \n",
            "  inflating: pokemon/official-jpg-named/slurpuff.jpg  \n",
            "  inflating: pokemon/official-jpg-named/smeargle.jpg  \n",
            "  inflating: pokemon/official-jpg-named/smoochum.jpg  \n",
            "  inflating: pokemon/official-jpg-named/sneasel.jpg  \n",
            "  inflating: pokemon/official-jpg-named/snivy.jpg  \n",
            "  inflating: pokemon/official-jpg-named/snom.jpg  \n",
            "  inflating: pokemon/official-jpg-named/snorlax.jpg  \n",
            "  inflating: pokemon/official-jpg-named/snorunt.jpg  \n",
            "  inflating: pokemon/official-jpg-named/snover.jpg  \n",
            "  inflating: pokemon/official-jpg-named/snubbull.jpg  \n",
            "  inflating: pokemon/official-jpg-named/sobble.jpg  \n",
            "  inflating: pokemon/official-jpg-named/solgaleo.jpg  \n",
            "  inflating: pokemon/official-jpg-named/solosis.jpg  \n",
            "  inflating: pokemon/official-jpg-named/solrock.jpg  \n",
            "  inflating: pokemon/official-jpg-named/spearow.jpg  \n",
            "  inflating: pokemon/official-jpg-named/spectrier.jpg  \n",
            "  inflating: pokemon/official-jpg-named/spewpa-icy-snow.jpg  \n",
            "  inflating: pokemon/official-jpg-named/spheal.jpg  \n",
            "  inflating: pokemon/official-jpg-named/spinarak.jpg  \n",
            "  inflating: pokemon/official-jpg-named/spinda.jpg  \n",
            "  inflating: pokemon/official-jpg-named/spiritomb.jpg  \n",
            "  inflating: pokemon/official-jpg-named/spoink.jpg  \n",
            "  inflating: pokemon/official-jpg-named/spritzee.jpg  \n",
            "  inflating: pokemon/official-jpg-named/squirtle.jpg  \n",
            "  inflating: pokemon/official-jpg-named/stakataka.jpg  \n",
            "  inflating: pokemon/official-jpg-named/stantler.jpg  \n",
            "  inflating: pokemon/official-jpg-named/staraptor.jpg  \n",
            "  inflating: pokemon/official-jpg-named/staravia.jpg  \n",
            "  inflating: pokemon/official-jpg-named/starly.jpg  \n",
            "  inflating: pokemon/official-jpg-named/starmie.jpg  \n",
            "  inflating: pokemon/official-jpg-named/staryu.jpg  \n",
            "  inflating: pokemon/official-jpg-named/steelix.jpg  \n",
            "  inflating: pokemon/official-jpg-named/steenee.jpg  \n",
            "  inflating: pokemon/official-jpg-named/stonjourner.jpg  \n",
            "  inflating: pokemon/official-jpg-named/stoutland.jpg  \n",
            "  inflating: pokemon/official-jpg-named/stufful.jpg  \n",
            "  inflating: pokemon/official-jpg-named/stunfisk.jpg  \n",
            "  inflating: pokemon/official-jpg-named/stunky.jpg  \n",
            "  inflating: pokemon/official-jpg-named/sudowoodo.jpg  \n",
            "  inflating: pokemon/official-jpg-named/suicune.jpg  \n",
            "  inflating: pokemon/official-jpg-named/sunflora.jpg  \n",
            "  inflating: pokemon/official-jpg-named/sunkern.jpg  \n",
            "  inflating: pokemon/official-jpg-named/surskit.jpg  \n",
            "  inflating: pokemon/official-jpg-named/swablu.jpg  \n",
            "  inflating: pokemon/official-jpg-named/swadloon.jpg  \n",
            "  inflating: pokemon/official-jpg-named/swalot.jpg  \n",
            "  inflating: pokemon/official-jpg-named/swampert.jpg  \n",
            "  inflating: pokemon/official-jpg-named/swanna.jpg  \n",
            "  inflating: pokemon/official-jpg-named/swellow.jpg  \n",
            "  inflating: pokemon/official-jpg-named/swinub.jpg  \n",
            "  inflating: pokemon/official-jpg-named/swirlix.jpg  \n",
            "  inflating: pokemon/official-jpg-named/swoobat.jpg  \n",
            "  inflating: pokemon/official-jpg-named/sylveon.jpg  \n",
            "  inflating: pokemon/official-jpg-named/taillow.jpg  \n",
            "  inflating: pokemon/official-jpg-named/talonflame.jpg  \n",
            "  inflating: pokemon/official-jpg-named/tangela.jpg  \n",
            "  inflating: pokemon/official-jpg-named/tangrowth.jpg  \n",
            "  inflating: pokemon/official-jpg-named/tapu-bulu.jpg  \n",
            "  inflating: pokemon/official-jpg-named/tapu-fini.jpg  \n",
            "  inflating: pokemon/official-jpg-named/tapu-koko.jpg  \n",
            "  inflating: pokemon/official-jpg-named/tapu-lele.jpg  \n",
            "  inflating: pokemon/official-jpg-named/tauros.jpg  \n",
            "  inflating: pokemon/official-jpg-named/teddiursa.jpg  \n",
            "  inflating: pokemon/official-jpg-named/tentacool.jpg  \n",
            "  inflating: pokemon/official-jpg-named/tentacruel.jpg  \n",
            "  inflating: pokemon/official-jpg-named/tepig.jpg  \n",
            "  inflating: pokemon/official-jpg-named/terrakion.jpg  \n",
            "  inflating: pokemon/official-jpg-named/thievul.jpg  \n",
            "  inflating: pokemon/official-jpg-named/throh.jpg  \n",
            "  inflating: pokemon/official-jpg-named/thundurus-incarnate.jpg  \n",
            "  inflating: pokemon/official-jpg-named/thwackey.jpg  \n",
            "  inflating: pokemon/official-jpg-named/timburr.jpg  \n",
            "  inflating: pokemon/official-jpg-named/tirtouga.jpg  \n",
            "  inflating: pokemon/official-jpg-named/togedemaru.jpg  \n",
            "  inflating: pokemon/official-jpg-named/togekiss.jpg  \n",
            "  inflating: pokemon/official-jpg-named/togepi.jpg  \n",
            "  inflating: pokemon/official-jpg-named/togetic.jpg  \n",
            "  inflating: pokemon/official-jpg-named/torchic.jpg  \n",
            "  inflating: pokemon/official-jpg-named/torkoal.jpg  \n",
            "  inflating: pokemon/official-jpg-named/tornadus-incarnate.jpg  \n",
            "  inflating: pokemon/official-jpg-named/torracat.jpg  \n",
            "  inflating: pokemon/official-jpg-named/torterra.jpg  \n",
            "  inflating: pokemon/official-jpg-named/totodile.jpg  \n",
            "  inflating: pokemon/official-jpg-named/toucannon.jpg  \n",
            "  inflating: pokemon/official-jpg-named/toxapex.jpg  \n",
            "  inflating: pokemon/official-jpg-named/toxel.jpg  \n",
            "  inflating: pokemon/official-jpg-named/toxicroak.jpg  \n",
            "  inflating: pokemon/official-jpg-named/toxtricity-amped.jpg  \n",
            "  inflating: pokemon/official-jpg-named/tranquill.jpg  \n",
            "  inflating: pokemon/official-jpg-named/trapinch.jpg  \n",
            "  inflating: pokemon/official-jpg-named/treecko.jpg  \n",
            "  inflating: pokemon/official-jpg-named/trevenant.jpg  \n",
            "  inflating: pokemon/official-jpg-named/tropius.jpg  \n",
            "  inflating: pokemon/official-jpg-named/trubbish.jpg  \n",
            "  inflating: pokemon/official-jpg-named/trumbeak.jpg  \n",
            "  inflating: pokemon/official-jpg-named/tsareena.jpg  \n",
            "  inflating: pokemon/official-jpg-named/turtonator.jpg  \n",
            "  inflating: pokemon/official-jpg-named/turtwig.jpg  \n",
            "  inflating: pokemon/official-jpg-named/tympole.jpg  \n",
            "  inflating: pokemon/official-jpg-named/tynamo.jpg  \n",
            "  inflating: pokemon/official-jpg-named/type-null.jpg  \n",
            "  inflating: pokemon/official-jpg-named/typhlosion.jpg  \n",
            "  inflating: pokemon/official-jpg-named/tyranitar.jpg  \n",
            "  inflating: pokemon/official-jpg-named/tyrantrum.jpg  \n",
            "  inflating: pokemon/official-jpg-named/tyrogue.jpg  \n",
            "  inflating: pokemon/official-jpg-named/tyrunt.jpg  \n",
            "  inflating: pokemon/official-jpg-named/umbreon.jpg  \n",
            "  inflating: pokemon/official-jpg-named/unfezant.jpg  \n",
            "  inflating: pokemon/official-jpg-named/unown-a.jpg  \n",
            "  inflating: pokemon/official-jpg-named/ursaring.jpg  \n",
            "  inflating: pokemon/official-jpg-named/urshifu-single-strike.jpg  \n",
            "  inflating: pokemon/official-jpg-named/uxie.jpg  \n",
            "  inflating: pokemon/official-jpg-named/vanillish.jpg  \n",
            "  inflating: pokemon/official-jpg-named/vanillite.jpg  \n",
            "  inflating: pokemon/official-jpg-named/vanilluxe.jpg  \n",
            "  inflating: pokemon/official-jpg-named/vaporeon.jpg  \n",
            "  inflating: pokemon/official-jpg-named/venipede.jpg  \n",
            "  inflating: pokemon/official-jpg-named/venomoth.jpg  \n",
            "  inflating: pokemon/official-jpg-named/venonat.jpg  \n",
            "  inflating: pokemon/official-jpg-named/venusaur.jpg  \n",
            "  inflating: pokemon/official-jpg-named/vespiquen.jpg  \n",
            "  inflating: pokemon/official-jpg-named/vibrava.jpg  \n",
            "  inflating: pokemon/official-jpg-named/victini.jpg  \n",
            "  inflating: pokemon/official-jpg-named/victreebel.jpg  \n",
            "  inflating: pokemon/official-jpg-named/vigoroth.jpg  \n",
            "  inflating: pokemon/official-jpg-named/vikavolt.jpg  \n",
            "  inflating: pokemon/official-jpg-named/vileplume.jpg  \n",
            "  inflating: pokemon/official-jpg-named/virizion.jpg  \n",
            "  inflating: pokemon/official-jpg-named/vivillon-meadow.jpg  \n",
            "  inflating: pokemon/official-jpg-named/volbeat.jpg  \n",
            "  inflating: pokemon/official-jpg-named/volcanion.jpg  \n",
            "  inflating: pokemon/official-jpg-named/volcarona.jpg  \n",
            "  inflating: pokemon/official-jpg-named/voltorb.jpg  \n",
            "  inflating: pokemon/official-jpg-named/vullaby.jpg  \n",
            "  inflating: pokemon/official-jpg-named/vulpix.jpg  \n",
            "  inflating: pokemon/official-jpg-named/wailmer.jpg  \n",
            "  inflating: pokemon/official-jpg-named/wailord.jpg  \n",
            "  inflating: pokemon/official-jpg-named/walrein.jpg  \n",
            "  inflating: pokemon/official-jpg-named/wartortle.jpg  \n",
            "  inflating: pokemon/official-jpg-named/watchog.jpg  \n",
            "  inflating: pokemon/official-jpg-named/weavile.jpg  \n",
            "  inflating: pokemon/official-jpg-named/weedle.jpg  \n",
            "  inflating: pokemon/official-jpg-named/weepinbell.jpg  \n",
            "  inflating: pokemon/official-jpg-named/weezing.jpg  \n",
            "  inflating: pokemon/official-jpg-named/whimsicott.jpg  \n",
            "  inflating: pokemon/official-jpg-named/whirlipede.jpg  \n",
            "  inflating: pokemon/official-jpg-named/whiscash.jpg  \n",
            "  inflating: pokemon/official-jpg-named/whismur.jpg  \n",
            "  inflating: pokemon/official-jpg-named/wigglytuff.jpg  \n",
            "  inflating: pokemon/official-jpg-named/wimpod.jpg  \n",
            "  inflating: pokemon/official-jpg-named/wingull.jpg  \n",
            "  inflating: pokemon/official-jpg-named/wishiwashi-solo.jpg  \n",
            "  inflating: pokemon/official-jpg-named/wobbuffet.jpg  \n",
            "  inflating: pokemon/official-jpg-named/woobat.jpg  \n",
            "  inflating: pokemon/official-jpg-named/wooloo.jpg  \n",
            "  inflating: pokemon/official-jpg-named/wooper.jpg  \n",
            "  inflating: pokemon/official-jpg-named/wormadam-plant.jpg  \n",
            "  inflating: pokemon/official-jpg-named/wurmple.jpg  \n",
            "  inflating: pokemon/official-jpg-named/wynaut.jpg  \n",
            "  inflating: pokemon/official-jpg-named/xatu.jpg  \n",
            "  inflating: pokemon/official-jpg-named/xerneas-active.jpg  \n",
            "  inflating: pokemon/official-jpg-named/xurkitree.jpg  \n",
            "  inflating: pokemon/official-jpg-named/yamask.jpg  \n",
            "  inflating: pokemon/official-jpg-named/yamper.jpg  \n",
            "  inflating: pokemon/official-jpg-named/yanma.jpg  \n",
            "  inflating: pokemon/official-jpg-named/yanmega.jpg  \n",
            "  inflating: pokemon/official-jpg-named/yungoos.jpg  \n",
            "  inflating: pokemon/official-jpg-named/yveltal.jpg  \n",
            "  inflating: pokemon/official-jpg-named/zacian-hero.jpg  \n",
            "  inflating: pokemon/official-jpg-named/zamazenta-hero.jpg  \n",
            "  inflating: pokemon/official-jpg-named/zangoose.jpg  \n",
            "  inflating: pokemon/official-jpg-named/zapdos.jpg  \n",
            "  inflating: pokemon/official-jpg-named/zarude.jpg  \n",
            "  inflating: pokemon/official-jpg-named/zebstrika.jpg  \n",
            "  inflating: pokemon/official-jpg-named/zekrom.jpg  \n",
            "  inflating: pokemon/official-jpg-named/zeraora.jpg  \n",
            "  inflating: pokemon/official-jpg-named/zigzagoon.jpg  \n",
            "  inflating: pokemon/official-jpg-named/zoroark.jpg  \n",
            "  inflating: pokemon/official-jpg-named/zorua.jpg  \n",
            "  inflating: pokemon/official-jpg-named/zubat.jpg  \n",
            "  inflating: pokemon/official-jpg-named/zweilous.jpg  \n",
            "  inflating: pokemon/official-jpg-named/zygarde.jpg  \n"
          ]
        }
      ]
    },
    {
      "cell_type": "code",
      "execution_count": null,
      "metadata": {
        "colab": {
          "base_uri": "https://localhost:8080/"
        },
        "id": "YnTwWe2KcIKN",
        "outputId": "8ef48a3c-ebac-4bee-abf4-4d33a86a30e7"
      },
      "outputs": [
        {
          "output_type": "stream",
          "name": "stdout",
          "text": [
            "Mounted at /content/gdrive\n"
          ]
        }
      ],
      "source": [
        "from google.colab import drive\n",
        "drive.mount(\"/content/gdrive\")\n",
        "\n",
        "pokemon_path = \"pokemon/\""
      ]
    },
    {
      "cell_type": "code",
      "execution_count": null,
      "metadata": {
        "id": "Jtf2xbwfPo8N"
      },
      "outputs": [],
      "source": [
        "dataset = ds.ImageFolder(root=pokemon_path,\n",
        "       transform=transforms.Compose([\n",
        "       transforms.Resize(size=[64,64]),\n",
        "       transforms.RandomHorizontalFlip(),\n",
        "       transforms.RandomRotation(degrees=[0.2, 0.8]),\n",
        "       transforms.ToTensor(),\n",
        "       transforms.Normalize((0.5, 0.5, 0.5), (0.5, 0.5, 0.5)),\n",
        "]))\n",
        "\n",
        "device = torch.device(\"cuda:0\" if torch.cuda.is_available() else \"cpu\")"
      ]
    },
    {
      "cell_type": "code",
      "execution_count": null,
      "metadata": {
        "id": "UjQkahk7WE_N"
      },
      "outputs": [],
      "source": [
        "dataloader = torch.utils.data.DataLoader(dataset, batch_size=16,\n",
        "                                         shuffle=True, num_workers=int(2))"
      ]
    },
    {
      "cell_type": "code",
      "execution_count": null,
      "metadata": {
        "colab": {
          "base_uri": "https://localhost:8080/",
          "height": 349
        },
        "id": "qUWnBtmuXrnj",
        "outputId": "f1d545b0-06d0-4eed-847c-3eb3a310bec9"
      },
      "outputs": [
        {
          "output_type": "display_data",
          "data": {
            "text/plain": [
              "<Figure size 2160x720 with 1 Axes>"
            ],
            "image/png": "[encoded data removed]"
          },
          "metadata": {
            "needs_background": "light"
          }
        }
      ],
      "source": [
        "# вытащим батч изображений из даталоадера\n",
        "dataiter = iter(dataloader)\n",
        "images, labels = dataiter.next()\n",
        "imshow(trv.utils.make_grid(images))"
      ]
    },
    {
      "cell_type": "markdown",
      "metadata": {
        "id": "zyBtKcm6cd0d"
      },
      "source": [
        "# Строим DCGAN"
      ]
    },
    {
      "cell_type": "code",
      "execution_count": null,
      "metadata": {
        "id": "YZEp2tuIntrd"
      },
      "outputs": [],
      "source": [
        "n_channels = 3\n",
        "ndf = 128\n",
        "ngf = 128\n",
        "latent_dim = 100 # скрытая размерность\n",
        "batch_size = 16"
      ]
    },
    {
      "cell_type": "code",
      "execution_count": null,
      "metadata": {
        "id": "w1tT_hRXmPb5"
      },
      "outputs": [],
      "source": [
        "import torch.nn as nn\n",
        "import torch.nn.functional as F\n",
        "import torch.optim as optim"
      ]
    },
    {
      "cell_type": "markdown",
      "metadata": {
        "id": "osWGJjxI5rb6"
      },
      "source": [
        "### Генератор"
      ]
    },
    {
      "cell_type": "code",
      "execution_count": null,
      "metadata": {
        "id": "yKMI-vIdxX-w"
      },
      "outputs": [],
      "source": [
        "class Generator(nn.Module):\n",
        "    def __init__(self):\n",
        "        super(Generator, self).__init__()\n",
        "        self.main = nn.Sequential(\n",
        "\n",
        "            ##nn.ConvTranspose2d(latent_dim, ngf * 16, 4, 1, 0, bias=False),\n",
        "            ##nn.BatchNorm2d(ngf * 16),\n",
        "            ##nn.ReLU(True),\n",
        "            ## ngf * 8 x 4 x 4\n",
        "\n",
        "            nn.ConvTranspose2d(latent_dim, ngf * 8, 4, 1, 0, bias=False),\n",
        "            nn.BatchNorm2d(ngf * 8),\n",
        "            nn.ReLU(True),\n",
        "            # ngf * 8 x 4 x 4\n",
        "            nn.ConvTranspose2d(ngf * 8, ngf * 4, 4, 2, 1, bias=False),\n",
        "            nn.BatchNorm2d(ngf * 4),\n",
        "            nn.ReLU(True),\n",
        "            # ngf * 4 x 8 x 8\n",
        "\n",
        "            nn.ConvTranspose2d(ngf * 4, ngf * 2, 4, 2, 1, bias=False),\n",
        "            nn.BatchNorm2d(ngf * 2),\n",
        "            nn.ReLU(True),\n",
        "            # ngf * 2 x 16 x 16\n",
        "\n",
        "            nn.ConvTranspose2d(ngf * 2, ngf, 4, 2, 1, bias=False),\n",
        "            nn.BatchNorm2d(ngf),\n",
        "            nn.ReLU(True),\n",
        "            # ngf x 32 x 32\n",
        "\n",
        "            nn.ConvTranspose2d(ngf, n_channels, 4, 2, 1, bias=False),\n",
        "            nn.Tanh()\n",
        "            # n_channels x 64 x 64\n",
        "        )\n",
        "\n",
        "    def forward(self, x):\n",
        "        return self.main(x)"
      ]
    },
    {
      "cell_type": "code",
      "execution_count": null,
      "metadata": {
        "colab": {
          "base_uri": "https://localhost:8080/"
        },
        "id": "foXiS-ja2c_g",
        "outputId": "e6ab11b5-5791-4a8d-ae09-e7b12618e726"
      },
      "outputs": [
        {
          "output_type": "stream",
          "name": "stdout",
          "text": [
            "Generator(\n",
            "  (main): Sequential(\n",
            "    (0): ConvTranspose2d(100, 1024, kernel_size=(4, 4), stride=(1, 1), bias=False)\n",
            "    (1): BatchNorm2d(1024, eps=1e-05, momentum=0.1, affine=True, track_running_stats=True)\n",
            "    (2): ReLU(inplace=True)\n",
            "    (3): ConvTranspose2d(1024, 512, kernel_size=(4, 4), stride=(2, 2), padding=(1, 1), bias=False)\n",
            "    (4): BatchNorm2d(512, eps=1e-05, momentum=0.1, affine=True, track_running_stats=True)\n",
            "    (5): ReLU(inplace=True)\n",
            "    (6): ConvTranspose2d(512, 256, kernel_size=(4, 4), stride=(2, 2), padding=(1, 1), bias=False)\n",
            "    (7): BatchNorm2d(256, eps=1e-05, momentum=0.1, affine=True, track_running_stats=True)\n",
            "    (8): ReLU(inplace=True)\n",
            "    (9): ConvTranspose2d(256, 128, kernel_size=(4, 4), stride=(2, 2), padding=(1, 1), bias=False)\n",
            "    (10): BatchNorm2d(128, eps=1e-05, momentum=0.1, affine=True, track_running_stats=True)\n",
            "    (11): ReLU(inplace=True)\n",
            "    (12): ConvTranspose2d(128, 3, kernel_size=(4, 4), stride=(2, 2), padding=(1, 1), bias=False)\n",
            "    (13): Tanh()\n",
            "  )\n",
            ")\n"
          ]
        }
      ],
      "source": [
        "G = Generator()\n",
        "print(G)"
      ]
    },
    {
      "cell_type": "markdown",
      "metadata": {
        "id": "s9niKYWvkk5C"
      },
      "source": [
        "### Discriminator"
      ]
    },
    {
      "cell_type": "code",
      "execution_count": null,
      "metadata": {
        "id": "cHz73rnoXtPA"
      },
      "outputs": [],
      "source": [
        "class Discriminator(nn.Module):\n",
        "    def __init__(self):\n",
        "        super(Discriminator, self).__init__()\n",
        "        self.main = nn.Sequential(\n",
        "            \n",
        "            # n_channels x 64 x 64\n",
        "            nn.Conv2d(n_channels, ndf, 4, 2, 1, bias=False),\n",
        "            nn.LeakyReLU(0.2, inplace=True),\n",
        "\n",
        "            # ndf x 32 x 32\n",
        "            nn.Conv2d(ndf, ndf * 2, 4, 2, 1, bias=False),\n",
        "            nn.BatchNorm2d(ndf * 2),\n",
        "            nn.LeakyReLU(0.2, inplace=True),\n",
        "\n",
        "            # ndf*2 x 16 x 16\n",
        "            nn.Conv2d(ndf * 2, ndf * 4, 4, 2, 1, bias=False),\n",
        "            nn.BatchNorm2d(ndf * 4),\n",
        "            nn.LeakyReLU(0.2, inplace=True),\n",
        "\n",
        "            # ndf*4 x 8 x 8\n",
        "            nn.Conv2d(ndf * 4, ndf * 8, 4, 2, 1, bias=False),\n",
        "            nn.BatchNorm2d(ndf * 8),\n",
        "            nn.LeakyReLU(0.2, inplace=True),\n",
        "\n",
        "            ## ndf*8 x 8 x 8\n",
        "            ## nn.Conv2d(ndf * 8, ndf * 16, 4, 2, 1, bias=False),\n",
        "            ## nn.BatchNorm2d(ndf * 16),\n",
        "            ## nn.LeakyReLU(0.2, inplace=True),\n",
        "\n",
        "            # ndf * 8 x 4 x 4\n",
        "            nn.Conv2d(ndf * 8, 1, 4, 1, 0, bias=False),\n",
        "            nn.Sigmoid()\n",
        "\n",
        "        )\n",
        "    def forward(self, x):\n",
        "        return self.main(x).view(-1, 1).squeeze(1)\n",
        "    \n",
        "    "
      ]
    },
    {
      "cell_type": "code",
      "execution_count": null,
      "metadata": {
        "colab": {
          "base_uri": "https://localhost:8080/"
        },
        "id": "xZvCxHPJwTsP",
        "outputId": "fea8973a-9918-4e09-f699-8a09be93ba99"
      },
      "outputs": [
        {
          "output_type": "stream",
          "name": "stdout",
          "text": [
            "Discriminator(\n",
            "  (main): Sequential(\n",
            "    (0): Conv2d(3, 128, kernel_size=(4, 4), stride=(2, 2), padding=(1, 1), bias=False)\n",
            "    (1): LeakyReLU(negative_slope=0.2, inplace=True)\n",
            "    (2): Conv2d(128, 256, kernel_size=(4, 4), stride=(2, 2), padding=(1, 1), bias=False)\n",
            "    (3): BatchNorm2d(256, eps=1e-05, momentum=0.1, affine=True, track_running_stats=True)\n",
            "    (4): LeakyReLU(negative_slope=0.2, inplace=True)\n",
            "    (5): Conv2d(256, 512, kernel_size=(4, 4), stride=(2, 2), padding=(1, 1), bias=False)\n",
            "    (6): BatchNorm2d(512, eps=1e-05, momentum=0.1, affine=True, track_running_stats=True)\n",
            "    (7): LeakyReLU(negative_slope=0.2, inplace=True)\n",
            "    (8): Conv2d(512, 1024, kernel_size=(4, 4), stride=(2, 2), padding=(1, 1), bias=False)\n",
            "    (9): BatchNorm2d(1024, eps=1e-05, momentum=0.1, affine=True, track_running_stats=True)\n",
            "    (10): LeakyReLU(negative_slope=0.2, inplace=True)\n",
            "    (11): Conv2d(1024, 1, kernel_size=(4, 4), stride=(1, 1), bias=False)\n",
            "    (12): Sigmoid()\n",
            "  )\n",
            ")\n"
          ]
        }
      ],
      "source": [
        "D = Discriminator()\n",
        "print(D)"
      ]
    },
    {
      "cell_type": "markdown",
      "metadata": {
        "id": "i79LDMcN501a"
      },
      "source": [
        "# Setup"
      ]
    },
    {
      "cell_type": "code",
      "execution_count": null,
      "metadata": {
        "id": "IiL68fER2it0"
      },
      "outputs": [],
      "source": [
        "criterion = nn.BCELoss()"
      ]
    },
    {
      "cell_type": "code",
      "execution_count": null,
      "metadata": {
        "id": "wbAorKMc5G2V"
      },
      "outputs": [],
      "source": [
        "input = torch.FloatTensor(batch_size, 3, 128, 128)\n",
        "noise = torch.FloatTensor(batch_size, latent_dim, 1, 1)\n",
        "fixed_noise = torch.FloatTensor(batch_size, latent_dim, 1, 1).normal_(0, 1)\n",
        "\n",
        "label = torch.FloatTensor(batch_size)"
      ]
    },
    {
      "cell_type": "code",
      "execution_count": null,
      "metadata": {
        "id": "Og1C1O0s8BVM"
      },
      "outputs": [],
      "source": [
        "# Использование GPU\n",
        "use_cuda = True\n",
        "\n",
        "if use_cuda and torch.cuda.is_available():\n",
        "    D.cuda()\n",
        "    G.cuda()\n",
        "    criterion.cuda()\n",
        "    input, label = input.cuda(), label.cuda()\n",
        "    noise = noise.cuda()"
      ]
    },
    {
      "cell_type": "code",
      "execution_count": null,
      "metadata": {
        "id": "eJAzMXXa8ql8"
      },
      "outputs": [],
      "source": [
        "optimizerD = optim.Adam(D.parameters(), lr=0.0002, betas=(0.5, 0.999))\n",
        "optimizerG = optim.Adam(G.parameters(), lr=0.0002, betas=(0.5, 0.999))"
      ]
    },
    {
      "cell_type": "code",
      "execution_count": null,
      "metadata": {
        "id": "6VCgj1U--wZU"
      },
      "outputs": [],
      "source": [
        "n_epochs = 200\n",
        "output_path = \"/content/gdrive/MyDrive/test-output/\""
      ]
    },
    {
      "cell_type": "code",
      "execution_count": null,
      "metadata": {
        "colab": {
          "base_uri": "https://localhost:8080/"
        },
        "id": "fKK2upr5-qfb",
        "outputId": "a02faad2-0658-42ef-9cfc-6f56f7f39978"
      },
      "outputs": [
        {
          "output_type": "stream",
          "name": "stderr",
          "text": [
            "100%|██████████| 57/57 [00:07<00:00,  7.77it/s]"
          ]
        },
        {
          "output_type": "stream",
          "name": "stdout",
          "text": [
            "\n",
            "Epoch 501 | Discriminator loss: 0.0570 | Generator loss: 13.7589\n"
          ]
        },
        {
          "output_type": "stream",
          "name": "stderr",
          "text": [
            "\n",
            "100%|██████████| 57/57 [00:07<00:00,  7.83it/s]"
          ]
        },
        {
          "output_type": "stream",
          "name": "stdout",
          "text": [
            "\n",
            "Epoch 502 | Discriminator loss: 0.1271 | Generator loss: 10.7871\n"
          ]
        },
        {
          "output_type": "stream",
          "name": "stderr",
          "text": [
            "\n",
            "100%|██████████| 57/57 [00:07<00:00,  7.69it/s]"
          ]
        },
        {
          "output_type": "stream",
          "name": "stdout",
          "text": [
            "\n",
            "Epoch 503 | Discriminator loss: 0.0712 | Generator loss: 10.5599\n"
          ]
        },
        {
          "output_type": "stream",
          "name": "stderr",
          "text": [
            "\n",
            "100%|██████████| 57/57 [00:07<00:00,  7.76it/s]"
          ]
        },
        {
          "output_type": "stream",
          "name": "stdout",
          "text": [
            "\n",
            "Epoch 504 | Discriminator loss: 0.0314 | Generator loss: 9.1873\n"
          ]
        },
        {
          "output_type": "stream",
          "name": "stderr",
          "text": [
            "\n",
            "100%|██████████| 57/57 [00:07<00:00,  7.76it/s]"
          ]
        },
        {
          "output_type": "stream",
          "name": "stdout",
          "text": [
            "\n",
            "Epoch 505 | Discriminator loss: 0.0450 | Generator loss: 11.3848\n"
          ]
        },
        {
          "output_type": "stream",
          "name": "stderr",
          "text": [
            "\n",
            "100%|██████████| 57/57 [00:07<00:00,  7.56it/s]"
          ]
        },
        {
          "output_type": "stream",
          "name": "stdout",
          "text": [
            "\n",
            "Epoch 506 | Discriminator loss: 0.0486 | Generator loss: 11.8215\n"
          ]
        },
        {
          "output_type": "stream",
          "name": "stderr",
          "text": [
            "\n",
            "100%|██████████| 57/57 [00:07<00:00,  7.86it/s]"
          ]
        },
        {
          "output_type": "stream",
          "name": "stdout",
          "text": [
            "\n",
            "Epoch 507 | Discriminator loss: 0.0550 | Generator loss: 12.7307\n"
          ]
        },
        {
          "output_type": "stream",
          "name": "stderr",
          "text": [
            "\n",
            "100%|██████████| 57/57 [00:07<00:00,  7.84it/s]"
          ]
        },
        {
          "output_type": "stream",
          "name": "stdout",
          "text": [
            "\n",
            "Epoch 508 | Discriminator loss: 0.1056 | Generator loss: 12.1124\n"
          ]
        },
        {
          "output_type": "stream",
          "name": "stderr",
          "text": [
            "\n",
            "100%|██████████| 57/57 [00:07<00:00,  7.89it/s]"
          ]
        },
        {
          "output_type": "stream",
          "name": "stdout",
          "text": [
            "\n",
            "Epoch 509 | Discriminator loss: 0.0762 | Generator loss: 12.1476\n"
          ]
        },
        {
          "output_type": "stream",
          "name": "stderr",
          "text": [
            "\n",
            "100%|██████████| 57/57 [00:07<00:00,  7.95it/s]"
          ]
        },
        {
          "output_type": "stream",
          "name": "stdout",
          "text": [
            "\n",
            "Epoch 510 | Discriminator loss: 0.0463 | Generator loss: 10.8005\n"
          ]
        },
        {
          "output_type": "stream",
          "name": "stderr",
          "text": [
            "\n",
            "100%|██████████| 57/57 [00:07<00:00,  7.89it/s]"
          ]
        },
        {
          "output_type": "stream",
          "name": "stdout",
          "text": [
            "\n",
            "Epoch 511 | Discriminator loss: 0.0372 | Generator loss: 11.1764\n"
          ]
        },
        {
          "output_type": "stream",
          "name": "stderr",
          "text": [
            "\n",
            "100%|██████████| 57/57 [00:07<00:00,  7.22it/s]"
          ]
        },
        {
          "output_type": "stream",
          "name": "stdout",
          "text": [
            "\n",
            "Epoch 512 | Discriminator loss: 0.0462 | Generator loss: 10.3798\n"
          ]
        },
        {
          "output_type": "stream",
          "name": "stderr",
          "text": [
            "\n",
            "100%|██████████| 57/57 [00:07<00:00,  7.86it/s]"
          ]
        },
        {
          "output_type": "stream",
          "name": "stdout",
          "text": [
            "\n",
            "Epoch 513 | Discriminator loss: 0.0290 | Generator loss: 12.5236\n"
          ]
        },
        {
          "output_type": "stream",
          "name": "stderr",
          "text": [
            "\n",
            "100%|██████████| 57/57 [00:07<00:00,  7.87it/s]"
          ]
        },
        {
          "output_type": "stream",
          "name": "stdout",
          "text": [
            "\n",
            "Epoch 514 | Discriminator loss: 0.0246 | Generator loss: 10.7858\n"
          ]
        },
        {
          "output_type": "stream",
          "name": "stderr",
          "text": [
            "\n",
            "100%|██████████| 57/57 [00:07<00:00,  7.73it/s]"
          ]
        },
        {
          "output_type": "stream",
          "name": "stdout",
          "text": [
            "\n",
            "Epoch 515 | Discriminator loss: 0.0119 | Generator loss: 9.1311\n"
          ]
        },
        {
          "output_type": "stream",
          "name": "stderr",
          "text": [
            "\n",
            "100%|██████████| 57/57 [00:07<00:00,  7.87it/s]"
          ]
        },
        {
          "output_type": "stream",
          "name": "stdout",
          "text": [
            "\n",
            "Epoch 516 | Discriminator loss: 0.0166 | Generator loss: 10.8082\n"
          ]
        },
        {
          "output_type": "stream",
          "name": "stderr",
          "text": [
            "\n",
            "100%|██████████| 57/57 [00:07<00:00,  7.86it/s]"
          ]
        },
        {
          "output_type": "stream",
          "name": "stdout",
          "text": [
            "\n",
            "Epoch 517 | Discriminator loss: 0.0163 | Generator loss: 13.0911\n"
          ]
        },
        {
          "output_type": "stream",
          "name": "stderr",
          "text": [
            "\n",
            "100%|██████████| 57/57 [00:07<00:00,  7.83it/s]"
          ]
        },
        {
          "output_type": "stream",
          "name": "stdout",
          "text": [
            "\n",
            "Epoch 518 | Discriminator loss: 0.1048 | Generator loss: 17.0038\n"
          ]
        },
        {
          "output_type": "stream",
          "name": "stderr",
          "text": [
            "\n",
            "100%|██████████| 57/57 [00:07<00:00,  7.63it/s]"
          ]
        },
        {
          "output_type": "stream",
          "name": "stdout",
          "text": [
            "\n",
            "Epoch 519 | Discriminator loss: 0.0765 | Generator loss: 12.9616\n"
          ]
        },
        {
          "output_type": "stream",
          "name": "stderr",
          "text": [
            "\n",
            "100%|██████████| 57/57 [00:07<00:00,  7.86it/s]"
          ]
        },
        {
          "output_type": "stream",
          "name": "stdout",
          "text": [
            "\n",
            "Epoch 520 | Discriminator loss: 0.0519 | Generator loss: 12.0967\n"
          ]
        },
        {
          "output_type": "stream",
          "name": "stderr",
          "text": [
            "\n",
            "100%|██████████| 57/57 [00:07<00:00,  7.87it/s]"
          ]
        },
        {
          "output_type": "stream",
          "name": "stdout",
          "text": [
            "\n",
            "Epoch 521 | Discriminator loss: 0.0510 | Generator loss: 11.7874\n"
          ]
        },
        {
          "output_type": "stream",
          "name": "stderr",
          "text": [
            "\n",
            "100%|██████████| 57/57 [00:07<00:00,  7.91it/s]"
          ]
        },
        {
          "output_type": "stream",
          "name": "stdout",
          "text": [
            "\n",
            "Epoch 522 | Discriminator loss: 0.0260 | Generator loss: 10.3503\n"
          ]
        },
        {
          "output_type": "stream",
          "name": "stderr",
          "text": [
            "\n",
            "100%|██████████| 57/57 [00:07<00:00,  7.90it/s]"
          ]
        },
        {
          "output_type": "stream",
          "name": "stdout",
          "text": [
            "\n",
            "Epoch 523 | Discriminator loss: 0.0129 | Generator loss: 8.8790\n"
          ]
        },
        {
          "output_type": "stream",
          "name": "stderr",
          "text": [
            "\n",
            "100%|██████████| 57/57 [00:07<00:00,  7.88it/s]"
          ]
        },
        {
          "output_type": "stream",
          "name": "stdout",
          "text": [
            "\n",
            "Epoch 524 | Discriminator loss: 0.0174 | Generator loss: 14.4773\n"
          ]
        },
        {
          "output_type": "stream",
          "name": "stderr",
          "text": [
            "\n",
            "100%|██████████| 57/57 [00:07<00:00,  7.43it/s]"
          ]
        },
        {
          "output_type": "stream",
          "name": "stdout",
          "text": [
            "\n",
            "Epoch 525 | Discriminator loss: 0.0195 | Generator loss: 11.8834\n"
          ]
        },
        {
          "output_type": "stream",
          "name": "stderr",
          "text": [
            "\n",
            "100%|██████████| 57/57 [00:07<00:00,  7.88it/s]"
          ]
        },
        {
          "output_type": "stream",
          "name": "stdout",
          "text": [
            "\n",
            "Epoch 526 | Discriminator loss: 0.0141 | Generator loss: 10.9805\n"
          ]
        },
        {
          "output_type": "stream",
          "name": "stderr",
          "text": [
            "\n",
            "100%|██████████| 57/57 [00:07<00:00,  7.84it/s]"
          ]
        },
        {
          "output_type": "stream",
          "name": "stdout",
          "text": [
            "\n",
            "Epoch 527 | Discriminator loss: 0.0117 | Generator loss: 11.5756\n"
          ]
        },
        {
          "output_type": "stream",
          "name": "stderr",
          "text": [
            "\n",
            "100%|██████████| 57/57 [00:07<00:00,  7.43it/s]"
          ]
        },
        {
          "output_type": "stream",
          "name": "stdout",
          "text": [
            "\n",
            "Epoch 528 | Discriminator loss: 0.0111 | Generator loss: 9.4837\n"
          ]
        },
        {
          "output_type": "stream",
          "name": "stderr",
          "text": [
            "\n",
            "100%|██████████| 57/57 [00:08<00:00,  7.03it/s]"
          ]
        },
        {
          "output_type": "stream",
          "name": "stdout",
          "text": [
            "\n",
            "Epoch 529 | Discriminator loss: 0.0090 | Generator loss: 10.3644\n"
          ]
        },
        {
          "output_type": "stream",
          "name": "stderr",
          "text": [
            "\n",
            "100%|██████████| 57/57 [00:07<00:00,  7.77it/s]"
          ]
        },
        {
          "output_type": "stream",
          "name": "stdout",
          "text": [
            "\n",
            "Epoch 530 | Discriminator loss: 0.0131 | Generator loss: 11.5527\n"
          ]
        },
        {
          "output_type": "stream",
          "name": "stderr",
          "text": [
            "\n",
            "100%|██████████| 57/57 [00:07<00:00,  7.89it/s]"
          ]
        },
        {
          "output_type": "stream",
          "name": "stdout",
          "text": [
            "\n",
            "Epoch 531 | Discriminator loss: 0.0122 | Generator loss: 10.9902\n"
          ]
        },
        {
          "output_type": "stream",
          "name": "stderr",
          "text": [
            "\n",
            "100%|██████████| 57/57 [00:07<00:00,  7.88it/s]"
          ]
        },
        {
          "output_type": "stream",
          "name": "stdout",
          "text": [
            "\n",
            "Epoch 532 | Discriminator loss: 0.0151 | Generator loss: 20.2219\n"
          ]
        },
        {
          "output_type": "stream",
          "name": "stderr",
          "text": [
            "\n",
            "100%|██████████| 57/57 [00:07<00:00,  7.80it/s]"
          ]
        },
        {
          "output_type": "stream",
          "name": "stdout",
          "text": [
            "\n",
            "Epoch 533 | Discriminator loss: 0.0344 | Generator loss: 15.8957\n"
          ]
        },
        {
          "output_type": "stream",
          "name": "stderr",
          "text": [
            "\n",
            "100%|██████████| 57/57 [00:07<00:00,  7.89it/s]"
          ]
        },
        {
          "output_type": "stream",
          "name": "stdout",
          "text": [
            "\n",
            "Epoch 534 | Discriminator loss: 0.1401 | Generator loss: 21.9345\n"
          ]
        },
        {
          "output_type": "stream",
          "name": "stderr",
          "text": [
            "\n",
            "100%|██████████| 57/57 [00:07<00:00,  7.91it/s]"
          ]
        },
        {
          "output_type": "stream",
          "name": "stdout",
          "text": [
            "\n",
            "Epoch 535 | Discriminator loss: 0.2192 | Generator loss: 20.2338\n"
          ]
        },
        {
          "output_type": "stream",
          "name": "stderr",
          "text": [
            "\n",
            "100%|██████████| 57/57 [00:07<00:00,  7.72it/s]"
          ]
        },
        {
          "output_type": "stream",
          "name": "stdout",
          "text": [
            "\n",
            "Epoch 536 | Discriminator loss: 0.0894 | Generator loss: 16.1511\n"
          ]
        },
        {
          "output_type": "stream",
          "name": "stderr",
          "text": [
            "\n",
            "100%|██████████| 57/57 [00:07<00:00,  7.90it/s]"
          ]
        },
        {
          "output_type": "stream",
          "name": "stdout",
          "text": [
            "\n",
            "Epoch 537 | Discriminator loss: 0.0800 | Generator loss: 14.4668\n"
          ]
        },
        {
          "output_type": "stream",
          "name": "stderr",
          "text": [
            "\n",
            "100%|██████████| 57/57 [00:07<00:00,  7.84it/s]"
          ]
        },
        {
          "output_type": "stream",
          "name": "stdout",
          "text": [
            "\n",
            "Epoch 538 | Discriminator loss: 0.0248 | Generator loss: 9.0158\n"
          ]
        },
        {
          "output_type": "stream",
          "name": "stderr",
          "text": [
            "\n",
            "100%|██████████| 57/57 [00:07<00:00,  7.90it/s]"
          ]
        },
        {
          "output_type": "stream",
          "name": "stdout",
          "text": [
            "\n",
            "Epoch 539 | Discriminator loss: 0.1004 | Generator loss: 16.9055\n"
          ]
        },
        {
          "output_type": "stream",
          "name": "stderr",
          "text": [
            "\n",
            "100%|██████████| 57/57 [00:07<00:00,  7.60it/s]"
          ]
        },
        {
          "output_type": "stream",
          "name": "stdout",
          "text": [
            "\n",
            "Epoch 540 | Discriminator loss: 0.0642 | Generator loss: 12.9538\n"
          ]
        },
        {
          "output_type": "stream",
          "name": "stderr",
          "text": [
            "\n",
            "100%|██████████| 57/57 [00:07<00:00,  7.88it/s]"
          ]
        },
        {
          "output_type": "stream",
          "name": "stdout",
          "text": [
            "\n",
            "Epoch 541 | Discriminator loss: 0.0408 | Generator loss: 10.3460\n"
          ]
        },
        {
          "output_type": "stream",
          "name": "stderr",
          "text": [
            "\n",
            "100%|██████████| 57/57 [00:07<00:00,  7.85it/s]"
          ]
        },
        {
          "output_type": "stream",
          "name": "stdout",
          "text": [
            "\n",
            "Epoch 542 | Discriminator loss: 0.0414 | Generator loss: 15.2468\n"
          ]
        },
        {
          "output_type": "stream",
          "name": "stderr",
          "text": [
            "\n",
            "100%|██████████| 57/57 [00:07<00:00,  7.63it/s]"
          ]
        },
        {
          "output_type": "stream",
          "name": "stdout",
          "text": [
            "\n",
            "Epoch 543 | Discriminator loss: 0.0260 | Generator loss: 9.5504\n"
          ]
        },
        {
          "output_type": "stream",
          "name": "stderr",
          "text": [
            "\n",
            "100%|██████████| 57/57 [00:07<00:00,  7.84it/s]"
          ]
        },
        {
          "output_type": "stream",
          "name": "stdout",
          "text": [
            "\n",
            "Epoch 544 | Discriminator loss: 0.0278 | Generator loss: 9.8871\n"
          ]
        },
        {
          "output_type": "stream",
          "name": "stderr",
          "text": [
            "\n",
            "100%|██████████| 57/57 [00:07<00:00,  7.83it/s]"
          ]
        },
        {
          "output_type": "stream",
          "name": "stdout",
          "text": [
            "\n",
            "Epoch 545 | Discriminator loss: 0.0186 | Generator loss: 8.6113\n"
          ]
        },
        {
          "output_type": "stream",
          "name": "stderr",
          "text": [
            "\n",
            "100%|██████████| 57/57 [00:08<00:00,  6.89it/s]"
          ]
        },
        {
          "output_type": "stream",
          "name": "stdout",
          "text": [
            "\n",
            "Epoch 546 | Discriminator loss: 0.0215 | Generator loss: 12.8871\n"
          ]
        },
        {
          "output_type": "stream",
          "name": "stderr",
          "text": [
            "\n",
            "100%|██████████| 57/57 [00:07<00:00,  7.87it/s]"
          ]
        },
        {
          "output_type": "stream",
          "name": "stdout",
          "text": [
            "\n",
            "Epoch 547 | Discriminator loss: 0.0133 | Generator loss: 8.9532\n"
          ]
        },
        {
          "output_type": "stream",
          "name": "stderr",
          "text": [
            "\n",
            "100%|██████████| 57/57 [00:07<00:00,  7.83it/s]"
          ]
        },
        {
          "output_type": "stream",
          "name": "stdout",
          "text": [
            "\n",
            "Epoch 548 | Discriminator loss: 0.0095 | Generator loss: 9.1828\n"
          ]
        },
        {
          "output_type": "stream",
          "name": "stderr",
          "text": [
            "\n",
            "100%|██████████| 57/57 [00:07<00:00,  7.94it/s]"
          ]
        },
        {
          "output_type": "stream",
          "name": "stdout",
          "text": [
            "\n",
            "Epoch 549 | Discriminator loss: 0.0158 | Generator loss: 10.9662\n"
          ]
        },
        {
          "output_type": "stream",
          "name": "stderr",
          "text": [
            "\n",
            "100%|██████████| 57/57 [00:07<00:00,  7.87it/s]"
          ]
        },
        {
          "output_type": "stream",
          "name": "stdout",
          "text": [
            "\n",
            "Epoch 550 | Discriminator loss: 0.0166 | Generator loss: 13.5534\n"
          ]
        },
        {
          "output_type": "stream",
          "name": "stderr",
          "text": [
            "\n",
            "100%|██████████| 57/57 [00:07<00:00,  7.87it/s]"
          ]
        },
        {
          "output_type": "stream",
          "name": "stdout",
          "text": [
            "\n",
            "Epoch 551 | Discriminator loss: 0.0238 | Generator loss: 11.3256\n"
          ]
        },
        {
          "output_type": "stream",
          "name": "stderr",
          "text": [
            "\n",
            "100%|██████████| 57/57 [00:07<00:00,  7.90it/s]"
          ]
        },
        {
          "output_type": "stream",
          "name": "stdout",
          "text": [
            "\n",
            "Epoch 552 | Discriminator loss: 0.0154 | Generator loss: 18.7597\n"
          ]
        },
        {
          "output_type": "stream",
          "name": "stderr",
          "text": [
            "\n",
            "100%|██████████| 57/57 [00:07<00:00,  7.91it/s]"
          ]
        },
        {
          "output_type": "stream",
          "name": "stdout",
          "text": [
            "\n",
            "Epoch 553 | Discriminator loss: 0.0112 | Generator loss: 9.4081\n"
          ]
        },
        {
          "output_type": "stream",
          "name": "stderr",
          "text": [
            "\n",
            "100%|██████████| 57/57 [00:07<00:00,  7.73it/s]"
          ]
        },
        {
          "output_type": "stream",
          "name": "stdout",
          "text": [
            "\n",
            "Epoch 554 | Discriminator loss: 0.0377 | Generator loss: 22.6215\n"
          ]
        },
        {
          "output_type": "stream",
          "name": "stderr",
          "text": [
            "\n",
            "100%|██████████| 57/57 [00:07<00:00,  7.90it/s]"
          ]
        },
        {
          "output_type": "stream",
          "name": "stdout",
          "text": [
            "\n",
            "Epoch 555 | Discriminator loss: 0.0387 | Generator loss: 17.8800\n"
          ]
        },
        {
          "output_type": "stream",
          "name": "stderr",
          "text": [
            "\n",
            "100%|██████████| 57/57 [00:07<00:00,  7.90it/s]"
          ]
        },
        {
          "output_type": "stream",
          "name": "stdout",
          "text": [
            "\n",
            "Epoch 556 | Discriminator loss: 0.1168 | Generator loss: 17.2150\n"
          ]
        },
        {
          "output_type": "stream",
          "name": "stderr",
          "text": [
            "\n",
            "100%|██████████| 57/57 [00:07<00:00,  7.88it/s]"
          ]
        },
        {
          "output_type": "stream",
          "name": "stdout",
          "text": [
            "\n",
            "Epoch 557 | Discriminator loss: 0.0959 | Generator loss: 19.6451\n"
          ]
        },
        {
          "output_type": "stream",
          "name": "stderr",
          "text": [
            "\n",
            "100%|██████████| 57/57 [00:07<00:00,  7.63it/s]"
          ]
        },
        {
          "output_type": "stream",
          "name": "stdout",
          "text": [
            "\n",
            "Epoch 558 | Discriminator loss: 0.0801 | Generator loss: 12.8708\n"
          ]
        },
        {
          "output_type": "stream",
          "name": "stderr",
          "text": [
            "\n",
            "100%|██████████| 57/57 [00:07<00:00,  7.89it/s]"
          ]
        },
        {
          "output_type": "stream",
          "name": "stdout",
          "text": [
            "\n",
            "Epoch 559 | Discriminator loss: 0.0478 | Generator loss: 12.2508\n"
          ]
        },
        {
          "output_type": "stream",
          "name": "stderr",
          "text": [
            "\n",
            "100%|██████████| 57/57 [00:07<00:00,  7.78it/s]"
          ]
        },
        {
          "output_type": "stream",
          "name": "stdout",
          "text": [
            "\n",
            "Epoch 560 | Discriminator loss: 0.0398 | Generator loss: 13.9188\n"
          ]
        },
        {
          "output_type": "stream",
          "name": "stderr",
          "text": [
            "\n",
            "100%|██████████| 57/57 [00:07<00:00,  7.90it/s]"
          ]
        },
        {
          "output_type": "stream",
          "name": "stdout",
          "text": [
            "\n",
            "Epoch 561 | Discriminator loss: 0.0905 | Generator loss: 17.4667\n"
          ]
        },
        {
          "output_type": "stream",
          "name": "stderr",
          "text": [
            "\n",
            "100%|██████████| 57/57 [00:07<00:00,  7.82it/s]"
          ]
        },
        {
          "output_type": "stream",
          "name": "stdout",
          "text": [
            "\n",
            "Epoch 562 | Discriminator loss: 0.0531 | Generator loss: 15.8761\n"
          ]
        },
        {
          "output_type": "stream",
          "name": "stderr",
          "text": [
            "\n",
            "100%|██████████| 57/57 [00:07<00:00,  7.15it/s]"
          ]
        },
        {
          "output_type": "stream",
          "name": "stdout",
          "text": [
            "\n",
            "Epoch 563 | Discriminator loss: 0.0226 | Generator loss: 10.1032\n"
          ]
        },
        {
          "output_type": "stream",
          "name": "stderr",
          "text": [
            "\n",
            "100%|██████████| 57/57 [00:07<00:00,  7.59it/s]"
          ]
        },
        {
          "output_type": "stream",
          "name": "stdout",
          "text": [
            "\n",
            "Epoch 564 | Discriminator loss: 0.0300 | Generator loss: 10.8874\n"
          ]
        },
        {
          "output_type": "stream",
          "name": "stderr",
          "text": [
            "\n",
            "100%|██████████| 57/57 [00:07<00:00,  7.83it/s]"
          ]
        },
        {
          "output_type": "stream",
          "name": "stdout",
          "text": [
            "\n",
            "Epoch 565 | Discriminator loss: 0.0224 | Generator loss: 13.3676\n"
          ]
        },
        {
          "output_type": "stream",
          "name": "stderr",
          "text": [
            "\n",
            "100%|██████████| 57/57 [00:07<00:00,  7.88it/s]"
          ]
        },
        {
          "output_type": "stream",
          "name": "stdout",
          "text": [
            "\n",
            "Epoch 566 | Discriminator loss: 0.0347 | Generator loss: 10.6168\n"
          ]
        },
        {
          "output_type": "stream",
          "name": "stderr",
          "text": [
            "\n",
            "100%|██████████| 57/57 [00:07<00:00,  7.79it/s]"
          ]
        },
        {
          "output_type": "stream",
          "name": "stdout",
          "text": [
            "\n",
            "Epoch 567 | Discriminator loss: 0.0184 | Generator loss: 10.2835\n"
          ]
        },
        {
          "output_type": "stream",
          "name": "stderr",
          "text": [
            "\n",
            "100%|██████████| 57/57 [00:07<00:00,  7.89it/s]"
          ]
        },
        {
          "output_type": "stream",
          "name": "stdout",
          "text": [
            "\n",
            "Epoch 568 | Discriminator loss: 0.0177 | Generator loss: 10.8090\n"
          ]
        },
        {
          "output_type": "stream",
          "name": "stderr",
          "text": [
            "\n",
            "100%|██████████| 57/57 [00:07<00:00,  7.85it/s]"
          ]
        },
        {
          "output_type": "stream",
          "name": "stdout",
          "text": [
            "\n",
            "Epoch 569 | Discriminator loss: 0.0308 | Generator loss: 13.2956\n"
          ]
        },
        {
          "output_type": "stream",
          "name": "stderr",
          "text": [
            "\n",
            "100%|██████████| 57/57 [00:07<00:00,  7.41it/s]"
          ]
        },
        {
          "output_type": "stream",
          "name": "stdout",
          "text": [
            "\n",
            "Epoch 570 | Discriminator loss: 0.0301 | Generator loss: 14.2960\n"
          ]
        },
        {
          "output_type": "stream",
          "name": "stderr",
          "text": [
            "\n",
            "100%|██████████| 57/57 [00:07<00:00,  7.88it/s]"
          ]
        },
        {
          "output_type": "stream",
          "name": "stdout",
          "text": [
            "\n",
            "Epoch 571 | Discriminator loss: 0.0087 | Generator loss: 9.2822\n"
          ]
        },
        {
          "output_type": "stream",
          "name": "stderr",
          "text": [
            "\n",
            "100%|██████████| 57/57 [00:07<00:00,  7.85it/s]"
          ]
        },
        {
          "output_type": "stream",
          "name": "stdout",
          "text": [
            "\n",
            "Epoch 572 | Discriminator loss: 0.0173 | Generator loss: 14.4418\n"
          ]
        },
        {
          "output_type": "stream",
          "name": "stderr",
          "text": [
            "\n",
            "100%|██████████| 57/57 [00:07<00:00,  7.44it/s]"
          ]
        },
        {
          "output_type": "stream",
          "name": "stdout",
          "text": [
            "\n",
            "Epoch 573 | Discriminator loss: 0.0098 | Generator loss: 10.9811\n"
          ]
        },
        {
          "output_type": "stream",
          "name": "stderr",
          "text": [
            "\n",
            "100%|██████████| 57/57 [00:07<00:00,  7.90it/s]"
          ]
        },
        {
          "output_type": "stream",
          "name": "stdout",
          "text": [
            "\n",
            "Epoch 574 | Discriminator loss: 0.0206 | Generator loss: 12.5635\n"
          ]
        },
        {
          "output_type": "stream",
          "name": "stderr",
          "text": [
            "\n",
            "100%|██████████| 57/57 [00:07<00:00,  7.86it/s]"
          ]
        },
        {
          "output_type": "stream",
          "name": "stdout",
          "text": [
            "\n",
            "Epoch 575 | Discriminator loss: 0.0200 | Generator loss: 18.1462\n"
          ]
        },
        {
          "output_type": "stream",
          "name": "stderr",
          "text": [
            "\n",
            "100%|██████████| 57/57 [00:07<00:00,  7.86it/s]"
          ]
        },
        {
          "output_type": "stream",
          "name": "stdout",
          "text": [
            "\n",
            "Epoch 576 | Discriminator loss: 0.0299 | Generator loss: 32.8565\n"
          ]
        },
        {
          "output_type": "stream",
          "name": "stderr",
          "text": [
            "\n",
            "100%|██████████| 57/57 [00:07<00:00,  7.85it/s]"
          ]
        },
        {
          "output_type": "stream",
          "name": "stdout",
          "text": [
            "\n",
            "Epoch 577 | Discriminator loss: 0.0345 | Generator loss: 30.6520\n"
          ]
        },
        {
          "output_type": "stream",
          "name": "stderr",
          "text": [
            "\n",
            "100%|██████████| 57/57 [00:07<00:00,  7.81it/s]"
          ]
        },
        {
          "output_type": "stream",
          "name": "stdout",
          "text": [
            "\n",
            "Epoch 578 | Discriminator loss: 0.1718 | Generator loss: 28.0891\n"
          ]
        },
        {
          "output_type": "stream",
          "name": "stderr",
          "text": [
            "\n",
            "100%|██████████| 57/57 [00:07<00:00,  7.50it/s]"
          ]
        },
        {
          "output_type": "stream",
          "name": "stdout",
          "text": [
            "\n",
            "Epoch 579 | Discriminator loss: 0.0650 | Generator loss: 47.3468\n"
          ]
        },
        {
          "output_type": "stream",
          "name": "stderr",
          "text": [
            "\n",
            "100%|██████████| 57/57 [00:07<00:00,  7.24it/s]"
          ]
        },
        {
          "output_type": "stream",
          "name": "stdout",
          "text": [
            "\n",
            "Epoch 580 | Discriminator loss: 0.2860 | Generator loss: 22.4394\n"
          ]
        },
        {
          "output_type": "stream",
          "name": "stderr",
          "text": [
            "\n",
            "100%|██████████| 57/57 [00:07<00:00,  7.62it/s]"
          ]
        },
        {
          "output_type": "stream",
          "name": "stdout",
          "text": [
            "\n",
            "Epoch 581 | Discriminator loss: 0.1249 | Generator loss: 18.6070\n"
          ]
        },
        {
          "output_type": "stream",
          "name": "stderr",
          "text": [
            "\n",
            "100%|██████████| 57/57 [00:07<00:00,  7.85it/s]"
          ]
        },
        {
          "output_type": "stream",
          "name": "stdout",
          "text": [
            "\n",
            "Epoch 582 | Discriminator loss: 0.0917 | Generator loss: 17.7745\n"
          ]
        },
        {
          "output_type": "stream",
          "name": "stderr",
          "text": [
            "\n",
            "100%|██████████| 57/57 [00:07<00:00,  7.85it/s]"
          ]
        },
        {
          "output_type": "stream",
          "name": "stdout",
          "text": [
            "\n",
            "Epoch 583 | Discriminator loss: 0.0452 | Generator loss: 11.3885\n"
          ]
        },
        {
          "output_type": "stream",
          "name": "stderr",
          "text": [
            "\n",
            "100%|██████████| 57/57 [00:07<00:00,  7.77it/s]"
          ]
        },
        {
          "output_type": "stream",
          "name": "stdout",
          "text": [
            "\n",
            "Epoch 584 | Discriminator loss: 0.0866 | Generator loss: 15.0527\n"
          ]
        },
        {
          "output_type": "stream",
          "name": "stderr",
          "text": [
            "\n",
            "100%|██████████| 57/57 [00:07<00:00,  7.83it/s]"
          ]
        },
        {
          "output_type": "stream",
          "name": "stdout",
          "text": [
            "\n",
            "Epoch 585 | Discriminator loss: 0.0394 | Generator loss: 9.9758\n"
          ]
        },
        {
          "output_type": "stream",
          "name": "stderr",
          "text": [
            "\n",
            "100%|██████████| 57/57 [00:07<00:00,  7.86it/s]"
          ]
        },
        {
          "output_type": "stream",
          "name": "stdout",
          "text": [
            "\n",
            "Epoch 586 | Discriminator loss: 0.0319 | Generator loss: 10.8726\n"
          ]
        },
        {
          "output_type": "stream",
          "name": "stderr",
          "text": [
            "\n",
            "100%|██████████| 57/57 [00:07<00:00,  7.88it/s]"
          ]
        },
        {
          "output_type": "stream",
          "name": "stdout",
          "text": [
            "\n",
            "Epoch 587 | Discriminator loss: 0.0227 | Generator loss: 9.1614\n"
          ]
        },
        {
          "output_type": "stream",
          "name": "stderr",
          "text": [
            "\n",
            "100%|██████████| 57/57 [00:07<00:00,  7.92it/s]"
          ]
        },
        {
          "output_type": "stream",
          "name": "stdout",
          "text": [
            "\n",
            "Epoch 588 | Discriminator loss: 0.0192 | Generator loss: 8.7538\n"
          ]
        },
        {
          "output_type": "stream",
          "name": "stderr",
          "text": [
            "\n",
            "100%|██████████| 57/57 [00:07<00:00,  7.85it/s]"
          ]
        },
        {
          "output_type": "stream",
          "name": "stdout",
          "text": [
            "\n",
            "Epoch 589 | Discriminator loss: 0.0246 | Generator loss: 10.5026\n"
          ]
        },
        {
          "output_type": "stream",
          "name": "stderr",
          "text": [
            "\n",
            "100%|██████████| 57/57 [00:07<00:00,  7.87it/s]"
          ]
        },
        {
          "output_type": "stream",
          "name": "stdout",
          "text": [
            "\n",
            "Epoch 590 | Discriminator loss: 0.0284 | Generator loss: 10.4943\n"
          ]
        },
        {
          "output_type": "stream",
          "name": "stderr",
          "text": [
            "\n",
            "100%|██████████| 57/57 [00:07<00:00,  7.87it/s]"
          ]
        },
        {
          "output_type": "stream",
          "name": "stdout",
          "text": [
            "\n",
            "Epoch 591 | Discriminator loss: 0.0178 | Generator loss: 14.7474\n"
          ]
        },
        {
          "output_type": "stream",
          "name": "stderr",
          "text": [
            "\n",
            "100%|██████████| 57/57 [00:07<00:00,  7.88it/s]"
          ]
        },
        {
          "output_type": "stream",
          "name": "stdout",
          "text": [
            "\n",
            "Epoch 592 | Discriminator loss: 0.0130 | Generator loss: 8.8206\n"
          ]
        },
        {
          "output_type": "stream",
          "name": "stderr",
          "text": [
            "\n",
            "100%|██████████| 57/57 [00:07<00:00,  7.85it/s]"
          ]
        },
        {
          "output_type": "stream",
          "name": "stdout",
          "text": [
            "\n",
            "Epoch 593 | Discriminator loss: 0.0111 | Generator loss: 8.8753\n"
          ]
        },
        {
          "output_type": "stream",
          "name": "stderr",
          "text": [
            "\n",
            "100%|██████████| 57/57 [00:07<00:00,  7.86it/s]"
          ]
        },
        {
          "output_type": "stream",
          "name": "stdout",
          "text": [
            "\n",
            "Epoch 594 | Discriminator loss: 0.0328 | Generator loss: 15.9741\n"
          ]
        },
        {
          "output_type": "stream",
          "name": "stderr",
          "text": [
            "\n",
            "100%|██████████| 57/57 [00:07<00:00,  7.86it/s]"
          ]
        },
        {
          "output_type": "stream",
          "name": "stdout",
          "text": [
            "\n",
            "Epoch 595 | Discriminator loss: 0.0160 | Generator loss: 13.4601\n"
          ]
        },
        {
          "output_type": "stream",
          "name": "stderr",
          "text": [
            "\n",
            "100%|██████████| 57/57 [00:07<00:00,  7.73it/s]"
          ]
        },
        {
          "output_type": "stream",
          "name": "stdout",
          "text": [
            "\n",
            "Epoch 596 | Discriminator loss: 0.0209 | Generator loss: 11.6453\n"
          ]
        },
        {
          "output_type": "stream",
          "name": "stderr",
          "text": [
            "\n",
            "100%|██████████| 57/57 [00:08<00:00,  7.11it/s]"
          ]
        },
        {
          "output_type": "stream",
          "name": "stdout",
          "text": [
            "\n",
            "Epoch 597 | Discriminator loss: 0.0112 | Generator loss: 12.4527\n"
          ]
        },
        {
          "output_type": "stream",
          "name": "stderr",
          "text": [
            "\n",
            "100%|██████████| 57/57 [00:07<00:00,  7.90it/s]"
          ]
        },
        {
          "output_type": "stream",
          "name": "stdout",
          "text": [
            "\n",
            "Epoch 598 | Discriminator loss: 0.4386 | Generator loss: 24.3853\n"
          ]
        },
        {
          "output_type": "stream",
          "name": "stderr",
          "text": [
            "\n",
            "100%|██████████| 57/57 [00:07<00:00,  7.88it/s]"
          ]
        },
        {
          "output_type": "stream",
          "name": "stdout",
          "text": [
            "\n",
            "Epoch 599 | Discriminator loss: 0.0771 | Generator loss: 15.5272\n"
          ]
        },
        {
          "output_type": "stream",
          "name": "stderr",
          "text": [
            "\n",
            "100%|██████████| 57/57 [00:07<00:00,  7.90it/s]"
          ]
        },
        {
          "output_type": "stream",
          "name": "stdout",
          "text": [
            "\n",
            "Epoch 600 | Discriminator loss: 0.0536 | Generator loss: 12.4576\n"
          ]
        },
        {
          "output_type": "stream",
          "name": "stderr",
          "text": [
            "\n"
          ]
        }
      ],
      "source": [
        "D.load_state_dict(torch.load('/content/gdrive/MyDrive/DCGAN_best_D.model'))\n",
        "G.load_state_dict(torch.load('/content/gdrive/MyDrive/DCGAN_best_G.model'))\n",
        "\n",
        "for epoch in range(500, 600):\n",
        "    total_batches = 0\n",
        "    gen_loss_avg = 0\n",
        "    disc_loss_avg = 0\n",
        "    for i, data in tqdm(enumerate(dataloader, 0), total=(len(dataset) + batch_size) // batch_size):\n",
        "        real, _ = data\n",
        "        if len(real) < batch_size:\n",
        "            continue\n",
        "        total_batches += 1\n",
        "\n",
        "        ## Positive update\n",
        "        D.zero_grad()\n",
        "        bs = real.size(0)\n",
        "        if use_cuda and torch.cuda.is_available():\n",
        "            real = real.cuda()\n",
        "        input.resize_as_(real).copy_(real)\n",
        "        label.resize_(bs).fill_(1)\n",
        "      \n",
        "        output = D(input)\n",
        "        loss_r = criterion(output, label)\n",
        "        loss_r.backward()\n",
        "      \n",
        "        ## Negative update\n",
        "        noise.resize_(bs, latent_dim, 1, 1).normal_(0, 1)\n",
        "        fake = G(noise)\n",
        "        label = label.fill_(0)\n",
        "        output = D(fake.detach())\n",
        "        loss_f = criterion(output, label)\n",
        "        loss_f.backward()\n",
        "      \n",
        "        loss_d = loss_r + loss_f\n",
        "        optimizerD.step()\n",
        "        disc_loss_avg += loss_d.item()\n",
        "      \n",
        "        # Generator update\n",
        "        G.zero_grad()\n",
        "        label = label.fill_(1)\n",
        "        output = D(fake)\n",
        "        loss_g = criterion(output, label)\n",
        "        loss_g.backward()\n",
        "        optimizerG.step()\n",
        "        gen_loss_avg += loss_g.item()\n",
        "\n",
        "\n",
        "        if i % 50 == 0:\n",
        "            noise.resize_(16, latent_dim, 1, 1).normal_(0, 1)\n",
        "            fake = G(noise)\n",
        "            vutils.save_image(fake.data, output_path+ f'fake_samples_epoch_{epoch:03d}.png', normalize=True)\n",
        "            torch.save(D.state_dict(), '/content/gdrive/MyDrive/DCGAN_best_D.model')\n",
        "            torch.save(G.state_dict(), '/content/gdrive/MyDrive/DCGAN_best_G.model')\n",
        "\n",
        "    print(f\"\\nEpoch {epoch+1} | Discriminator loss: {disc_loss_avg / total_batches:.4f} | Generator loss: {gen_loss_avg / total_batches:.4f}\")"
      ]
    }
  ],
  "metadata": {
    "accelerator": "GPU",
    "colab": {
      "collapsed_sections": [],
      "name": "дегенератор покемонов123",
      "provenance": []
    },
    "kernelspec": {
      "display_name": "Python 3",
      "language": "python",
      "name": "python3"
    },
    "language_info": {
      "codemirror_mode": {
        "name": "ipython",
        "version": 3
      },
      "file_extension": ".py",
      "mimetype": "text/x-python",
      "name": "python",
      "nbconvert_exporter": "python",
      "pygments_lexer": "ipython3",
      "version": "3.6.2"
    }
  },
  "nbformat": 4,
  "nbformat_minor": 0
}